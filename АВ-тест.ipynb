{
 "cells": [
  {
   "cell_type": "markdown",
   "id": "276fb78f",
   "metadata": {},
   "source": [
    "#### Сергей, привет! \n",
    "\n",
    "Меня зовут Максим Попов, и я буду проверять твой проект. Давай будем общаться на «ты». Но если тебе комфортнее на «вы», обязательно сообщи мне об этом. \n",
    "По ходу тетрадки ты найдешь комментарии к проекту, они будут в отдельных ячейках Markdown с заголовком «Комментарий ревьюера». Постарайся учесть эти комментарии для дальнейших проектов.\n",
    "\n",
    "---\n",
    "\n",
    "Я буду отмечать комментарии цветом и примечанием. В конце заголовка комментария будет указан номер итерации проверки. Пожалуйста, не удаляй и не правь мои комментарии\n",
    "\n",
    "Критично - требует исправления, влияет на удачное выполнение проекта\n",
    "\n",
    "Рекомендация - комментарий является рекомендацией или советом. Mожешь учесть их при выполнении будущих заданий. На твое усмотрение\n",
    "\n",
    "Отлично - Так отмечены удачные решения и подходы, на которые стоит опираться в будущих проектах\n",
    "\n",
    "\n",
    "---\n",
    "<div class=\"alert alert-block alert-danger\">\n",
    "    \n",
    "\n",
    "### Комментарий от ревьюера\n",
    "Критично\n",
    "\n",
    "Такой комментарий нужно исправить обязательно, он критически влияет на удачное выполнение проекта.\n",
    "</div>\n",
    "    \n",
    "---\n",
    "\n",
    "<div class=\"alert alert-block alert-warning\">\n",
    "    \n",
    "\n",
    "### Комментарий от ревьюера\n",
    "Рекомендация\n",
    "\n",
    "Такой комментарий является рекомендацией или советом. Mожешь учесть их при выполнении будущих заданий. На твое усмотрение. \n",
    "</div>\n",
    "\n",
    "---\n",
    "\n",
    "<div class=\"alert alert-block alert-success\">\n",
    "    \n",
    "\n",
    "### Комментарий от ревьюера\n",
    "Отлично\n",
    "    \n",
    "Так отмечены удачные решения и подходы, на которые стоит опираться в будущих проектах\n",
    "</div>\n",
    "\n",
    "\n",
    "Желательно реагировать на комментарии ('исправлено', 'не понятно как исправить ошибку' и т.п.) - так мы сможем более эффективно поработать над этим проектом.\n",
    "\n",
    "---\n",
    "\n",
    "Будет здорово, если ты будешь помечать свои действия следующим образом:\n",
    "\n",
    "\n",
    "\n",
    "<div class=\"alert alert-block alert-info\">\n",
    "\n",
    "### Комментарий студента:\n",
    "\n",
    "</div>"
   ]
  },
  {
   "cell_type": "markdown",
   "id": "35a7274c",
   "metadata": {},
   "source": [
    "<div class=\"alert alert-block alert-success\">\n",
    "    \n",
    "    \n",
    "### Комментарий от ревьюера v_1\n",
    "    \n",
    "Сергей, отличная работа, но следующие моменты надо исправить\n",
    "    \n",
    "1. Оформление графиков\n",
    "2. График среднего числа заказов\n",
    "3. Формулировка гипотез\n",
    "4. Выводы по тестам по очищенным данным\n",
    "5. Общий вывод\n",
    "    \n",
    "Подробные комментарии по ходу работы\n",
    "    \n",
    "Желтые комментарии-рекомендации на твое усмотрение.\n",
    "    \n",
    "Если есть вопросы ко мне, можешь оставить их в отдельном комментарии\n",
    "</div>"
   ]
  },
  {
   "cell_type": "markdown",
   "id": "816bbb0b",
   "metadata": {},
   "source": [
    "<div class=\"alert alert-block alert-success\">\n",
    " \n",
    "### Комментарий от ревьюера v_2\n",
    "    \n",
    "Сергей, привет!\n",
    "    \n",
    "Здорово, что не просто исправляешь ошибки, но и обращаешь внимание на рекомендации.\n",
    "\n",
    "У тебя получился отличный проект, успеха в дальнейшем обучении!\n",
    "    \n",
    "Если есть желание поближе познакомиться со статистикой, тервером и аб тестами (при этом глубоко не погружаясь в математические дебри) рекомендую посмотреть цикл лекций Глеба Михайлова (возможно он наставник у тебя)\n",
    "    \n",
    "https://www.youtube.com/playlist?list=PLQJ7ptkRY-xbHLLI66KdscKp_FJt0FsIi\n",
    "    \n",
    "И курсы Карпова по статистике на степике очень рекомендую, в свое время они многое мне дали\n",
    "</div>"
   ]
  },
  {
   "cell_type": "markdown",
   "id": "98a98012",
   "metadata": {},
   "source": [
    "# Проект АВ тест гипотез.\n",
    "## Описание проекта.\n",
    "\n",
    "Аналитик крупного интернет-магазина вместе с отделом маркетинга подготовили список гипотез для увеличения выручки.\n",
    "Необходтио приотизировать гипотезы, запустить A/B-тест и проанализировать результаты.\n",
    "### План выполнения.\n",
    "Часть 1. Приоритизация гипотез.\n",
    "В файле hypothesis.csv 9 гипотез по увеличению выручки интернет-магазина с указанными параметрами Reach, Impact, Confidence, Effort.\n",
    "Задача\n",
    "•\tПрименить фреймворк ICE для приоритизации гипотез.\n",
    "•\tПрименить фреймворк RICE для приоритизации гипотез.\n",
    "•\tСравним приоритизацию гипотез при применении RICE вместо ICE. \n",
    "Часть 2. Анализ A/B-теста\n",
    "Мы провели A/B-тест и получили результаты, которые описаны в файлах orders.csv и visitors.csv.\n",
    "Задача\n",
    "Проанализируем A/B-тест:\n",
    "1.\tПостроим график кумулятивной выручки по группам. Сделаем выводы и предположения.\n",
    "2.\tПостроим график кумулятивного среднего чека по группам. Сделаем выводы и предположения.\n",
    "3.\tПостроим график относительного изменения кумулятивного среднего чека группы B к группе A. Сделаем выводы и предположения.\n",
    "4.\tПостроим график кумулятивного среднего количества заказов на посетителя по группам. Сделаем выводы и предположения.\n",
    "5.\tПостроим график относительного изменения кумулятивного среднего количества заказов на посетителя группы B к группе A. Сделаем выводы и предположения.\n",
    "6.\tПостроим точечный график количества заказов по пользователям. Сделаем выводы и предположения.\n",
    "7.\tПосчитаем 95-й и 99-й перцентили количества заказов на пользователя. Выберем границу для определения аномальных пользователей.\n",
    "8.\tПостроим точечный график стоимостей заказов. Сделаем выводы и предположения.\n",
    "9.\tПосчитаем 95-й и 99-й перцентили стоимости заказов. Выберем границу для определения аномальных заказов.\n",
    "10.\tПосчитаем статистическую значимость различий в среднем количестве заказов на посетителя между группами между группами по «сырым» данным. Сделаем выводы и предположения.\n",
    "11.\tПосчитаем статистическую значимость различий в среднем чеке заказа между группами по «сырым» данным. Сделаем выводы и предположения.\n",
    "12.\tПосчитаем статистическую значимость различий в среднем количестве заказов на посетителя между группами между группами по «очищенным» данным. Сделаем выводы и предположения.\n",
    "13.\tПосчитаем статистическую значимость различий в среднем чеке заказа между группами по «очищенным» данным. Сделаем выводы и предположения.\n",
    "14.\tПримем решение по результатам теста. Варианты решений: 1. Остановить тест, зафиксировать победу одной из групп. 2. Остановить тест, зафиксировать отсутствие различий между группами. 3. Продолжить тест.\n"
   ]
  },
  {
   "cell_type": "markdown",
   "id": "2a1c2667",
   "metadata": {},
   "source": [
    "<div class=\"alert alert-block alert-success\">\n",
    "    \n",
    "### Комментарий от ревьюера v_1\n",
    "Отлично\n",
    "    \n",
    "Молодец, что в начале проекте знакомишь с ним, так работа приобретает структуру и лучше воспринимается.\n",
    "    \n",
    "А оглавление из плагина TOC можно перенести, установив галочку \"Add Notebook Toc Cell\"\n",
    "</div>"
   ]
  },
  {
   "cell_type": "code",
   "execution_count": 2,
   "id": "e5ffb4b4",
   "metadata": {},
   "outputs": [],
   "source": [
    "import pandas as pd\n",
    "import numpy as np\n",
    "import seaborn as sns\n",
    "import datetime as dt\n",
    "import pylab\n",
    "import scipy.stats as stats\n",
    "import matplotlib\n",
    "from matplotlib import pyplot as plt\n",
    "from scipy import stats as st \n",
    "\n"
   ]
  },
  {
   "cell_type": "markdown",
   "id": "da2c21b4",
   "metadata": {},
   "source": [
    "<div class=\"alert alert-block alert-success\">\n",
    "    \n",
    "### Комментарий от ревьюера v_1\n",
    "Отлично\n",
    "    \n",
    "Отлично, библиотеки импортированы в начале тетрадки, в отдельной ячейке.\n",
    "</div>"
   ]
  },
  {
   "cell_type": "code",
   "execution_count": 3,
   "id": "3ab381df",
   "metadata": {},
   "outputs": [
    {
     "name": "stdout",
     "output_type": "stream",
     "text": [
      "<class 'pandas.core.frame.DataFrame'>\n",
      "RangeIndex: 9 entries, 0 to 8\n",
      "Data columns (total 5 columns):\n",
      " #   Column      Non-Null Count  Dtype \n",
      "---  ------      --------------  ----- \n",
      " 0   Hypothesis  9 non-null      object\n",
      " 1   Reach       9 non-null      int64 \n",
      " 2   Impact      9 non-null      int64 \n",
      " 3   Confidence  9 non-null      int64 \n",
      " 4   Efforts     9 non-null      int64 \n",
      "dtypes: int64(4), object(1)\n",
      "memory usage: 488.0+ bytes\n"
     ]
    },
    {
     "data": {
      "text/html": [
       "<div>\n",
       "<style scoped>\n",
       "    .dataframe tbody tr th:only-of-type {\n",
       "        vertical-align: middle;\n",
       "    }\n",
       "\n",
       "    .dataframe tbody tr th {\n",
       "        vertical-align: top;\n",
       "    }\n",
       "\n",
       "    .dataframe thead th {\n",
       "        text-align: right;\n",
       "    }\n",
       "</style>\n",
       "<table border=\"1\" class=\"dataframe\">\n",
       "  <thead>\n",
       "    <tr style=\"text-align: right;\">\n",
       "      <th></th>\n",
       "      <th>Hypothesis</th>\n",
       "      <th>Reach</th>\n",
       "      <th>Impact</th>\n",
       "      <th>Confidence</th>\n",
       "      <th>Efforts</th>\n",
       "    </tr>\n",
       "  </thead>\n",
       "  <tbody>\n",
       "    <tr>\n",
       "      <th>0</th>\n",
       "      <td>Добавить два новых канала привлечения трафика,...</td>\n",
       "      <td>3</td>\n",
       "      <td>10</td>\n",
       "      <td>8</td>\n",
       "      <td>6</td>\n",
       "    </tr>\n",
       "    <tr>\n",
       "      <th>1</th>\n",
       "      <td>Запустить собственную службу доставки, что сок...</td>\n",
       "      <td>2</td>\n",
       "      <td>5</td>\n",
       "      <td>4</td>\n",
       "      <td>10</td>\n",
       "    </tr>\n",
       "    <tr>\n",
       "      <th>2</th>\n",
       "      <td>Добавить блоки рекомендаций товаров на сайт ин...</td>\n",
       "      <td>8</td>\n",
       "      <td>3</td>\n",
       "      <td>7</td>\n",
       "      <td>3</td>\n",
       "    </tr>\n",
       "    <tr>\n",
       "      <th>3</th>\n",
       "      <td>Изменить структура категорий, что увеличит кон...</td>\n",
       "      <td>8</td>\n",
       "      <td>3</td>\n",
       "      <td>3</td>\n",
       "      <td>8</td>\n",
       "    </tr>\n",
       "    <tr>\n",
       "      <th>4</th>\n",
       "      <td>Изменить цвет фона главной страницы, чтобы уве...</td>\n",
       "      <td>3</td>\n",
       "      <td>1</td>\n",
       "      <td>1</td>\n",
       "      <td>1</td>\n",
       "    </tr>\n",
       "    <tr>\n",
       "      <th>5</th>\n",
       "      <td>Добавить страницу отзывов клиентов о магазине,...</td>\n",
       "      <td>3</td>\n",
       "      <td>2</td>\n",
       "      <td>2</td>\n",
       "      <td>3</td>\n",
       "    </tr>\n",
       "    <tr>\n",
       "      <th>6</th>\n",
       "      <td>Показать на главной странице баннеры с актуаль...</td>\n",
       "      <td>5</td>\n",
       "      <td>3</td>\n",
       "      <td>8</td>\n",
       "      <td>3</td>\n",
       "    </tr>\n",
       "    <tr>\n",
       "      <th>7</th>\n",
       "      <td>Добавить форму подписки на все основные страни...</td>\n",
       "      <td>10</td>\n",
       "      <td>7</td>\n",
       "      <td>8</td>\n",
       "      <td>5</td>\n",
       "    </tr>\n",
       "    <tr>\n",
       "      <th>8</th>\n",
       "      <td>Запустить акцию, дающую скидку на товар в день...</td>\n",
       "      <td>1</td>\n",
       "      <td>9</td>\n",
       "      <td>9</td>\n",
       "      <td>5</td>\n",
       "    </tr>\n",
       "  </tbody>\n",
       "</table>\n",
       "</div>"
      ],
      "text/plain": [
       "                                          Hypothesis  Reach  Impact  \\\n",
       "0  Добавить два новых канала привлечения трафика,...      3      10   \n",
       "1  Запустить собственную службу доставки, что сок...      2       5   \n",
       "2  Добавить блоки рекомендаций товаров на сайт ин...      8       3   \n",
       "3  Изменить структура категорий, что увеличит кон...      8       3   \n",
       "4  Изменить цвет фона главной страницы, чтобы уве...      3       1   \n",
       "5  Добавить страницу отзывов клиентов о магазине,...      3       2   \n",
       "6  Показать на главной странице баннеры с актуаль...      5       3   \n",
       "7  Добавить форму подписки на все основные страни...     10       7   \n",
       "8  Запустить акцию, дающую скидку на товар в день...      1       9   \n",
       "\n",
       "   Confidence  Efforts  \n",
       "0           8        6  \n",
       "1           4       10  \n",
       "2           7        3  \n",
       "3           3        8  \n",
       "4           1        1  \n",
       "5           2        3  \n",
       "6           8        3  \n",
       "7           8        5  \n",
       "8           9        5  "
      ]
     },
     "metadata": {},
     "output_type": "display_data"
    }
   ],
   "source": [
    "\n",
    "try:\n",
    "    data= pd.read_csv(r\"C:\\Users\\Пользователь\\Documents\\Data Analyst\\Проект АВ тесты\\hypothesis.csv\")\n",
    "    \n",
    "except:\n",
    "    #data= pd.read_csv(\"hypothesis.csv\")\n",
    "    data= pd.read_csv(\"/datasets/hypothesis.csv\")\n",
    "data.info()\n",
    "display(data.head(10))\n",
    "\n",
    "\n"
   ]
  },
  {
   "cell_type": "markdown",
   "id": "b566342a",
   "metadata": {},
   "source": [
    "<div class=\"alert alert-block alert-warning\">\n",
    "    \n",
    "\n",
    "### Комментарий от ревьюера v_1\n",
    "Рекомендация\n",
    "\n",
    "Проверяй, пожалуйста, пути к файлам. Твой код закомментировал и исправил, чтобы не замедлять проверку\n",
    "</div>"
   ]
  },
  {
   "cell_type": "markdown",
   "id": "acd99d0c",
   "metadata": {},
   "source": [
    "<div class=\"alert alert-block alert-info\">\n",
    "\n",
    "### Комментарий студента:\n",
    "    Понял. Спасибо. Поправил.\n",
    "\n",
    "</div>"
   ]
  },
  {
   "cell_type": "markdown",
   "id": "8ccc311b",
   "metadata": {},
   "source": [
    "<div class=\"alert alert-block alert-success\">\n",
    "\n",
    "    \n",
    "### Комментарий от ревьюера v_2\n",
    "\n",
    "👍🏻\n",
    "    \n",
    "</div>"
   ]
  },
  {
   "cell_type": "code",
   "execution_count": 4,
   "id": "4df50f31",
   "metadata": {},
   "outputs": [
    {
     "name": "stdout",
     "output_type": "stream",
     "text": [
      "                                                                                                     Hypothesis  \\\n",
      "8                                                       Запустить акцию, дающую скидку на товар в день рождения   \n",
      "0            Добавить два новых канала привлечения трафика, что позволит привлекать на 30% больше пользователей   \n",
      "7              Добавить форму подписки на все основные страницы, чтобы собрать базу клиентов для email-рассылок   \n",
      "6          Показать на главной странице баннеры с актуальными акциями и распродажами, чтобы увеличить конверсию   \n",
      "2  Добавить блоки рекомендаций товаров на сайт интернет магазина, чтобы повысить конверсию и средний чек заказа   \n",
      "1                                     Запустить собственную службу доставки, что сократит срок доставки заказов   \n",
      "5                      Добавить страницу отзывов клиентов о магазине, что позволит увеличить количество заказов   \n",
      "3           Изменить структура категорий, что увеличит конверсию, т.к. пользователи быстрее найдут нужный товар   \n",
      "4                              Изменить цвет фона главной страницы, чтобы увеличить вовлеченность пользователей   \n",
      "\n",
      "         ICE  \n",
      "8  16.200000  \n",
      "0  13.333333  \n",
      "7  11.200000  \n",
      "6   8.000000  \n",
      "2   7.000000  \n",
      "1   2.000000  \n",
      "5   1.333333  \n",
      "3   1.125000  \n",
      "4   1.000000  \n"
     ]
    }
   ],
   "source": [
    "# Приоритезируем гиротезы с помощью фреймворка ICE\n",
    "pd.set_option('display.max_colwidth', None)\n",
    "data['ICE'] = data['Impact'] *data['Confidence']/data['Efforts']\n",
    "print (data[['Hypothesis', 'ICE']].sort_values(by='ICE', ascending =False))"
   ]
  },
  {
   "cell_type": "code",
   "execution_count": 5,
   "id": "68acae80",
   "metadata": {},
   "outputs": [
    {
     "name": "stdout",
     "output_type": "stream",
     "text": [
      "                                                                                                     Hypothesis  \\\n",
      "7              Добавить форму подписки на все основные страницы, чтобы собрать базу клиентов для email-рассылок   \n",
      "2  Добавить блоки рекомендаций товаров на сайт интернет магазина, чтобы повысить конверсию и средний чек заказа   \n",
      "0            Добавить два новых канала привлечения трафика, что позволит привлекать на 30% больше пользователей   \n",
      "6          Показать на главной странице баннеры с актуальными акциями и распродажами, чтобы увеличить конверсию   \n",
      "8                                                       Запустить акцию, дающую скидку на товар в день рождения   \n",
      "3           Изменить структура категорий, что увеличит конверсию, т.к. пользователи быстрее найдут нужный товар   \n",
      "1                                     Запустить собственную службу доставки, что сократит срок доставки заказов   \n",
      "5                      Добавить страницу отзывов клиентов о магазине, что позволит увеличить количество заказов   \n",
      "4                              Изменить цвет фона главной страницы, чтобы увеличить вовлеченность пользователей   \n",
      "\n",
      "    RICE  \n",
      "7  112.0  \n",
      "2   56.0  \n",
      "0   40.0  \n",
      "6   40.0  \n",
      "8   16.2  \n",
      "3    9.0  \n",
      "1    4.0  \n",
      "5    4.0  \n",
      "4    3.0  \n"
     ]
    }
   ],
   "source": [
    "# Приоритезируем гипотезы с помощью фреймворка RICE\n",
    "\n",
    "data['RICE'] = (data['Impact'] *data['Confidence']*data['Reach'])/data['Efforts']\n",
    "print (data[['Hypothesis', 'RICE']].sort_values(by='RICE', ascending =False))"
   ]
  },
  {
   "cell_type": "markdown",
   "id": "e49883b9",
   "metadata": {},
   "source": [
    "По фрейворку ICE приритетными оказались гипотезы 8,0,7,6,2. Гипотеза о предоставлении скидки в день рождения, увеличения количества каналов привлечения трафика, а также изменения интерфейса страниц с добавлением новых форм для пользователей.\n",
    "По фреймворку Rice приоритетными оказались гипотезы 7,2,0,6,8. Гипотезы об изменении интерфейса страниц, добавлении новых форм для посетителей для увеличения конверсии и среднего чека, а также увеличении каналов генерации трафика.\n",
    "Приоритизация изменилась, так как был учтен охват пользователей. Гипотеза о скидке в день рождения спустилась на 4 позиции вниз, так как акция имеет маленький охват."
   ]
  },
  {
   "cell_type": "markdown",
   "id": "736bf6e0",
   "metadata": {},
   "source": [
    "<div class=\"alert alert-block alert-warning\">\n",
    "    \n",
    "### Комментарий от ревьюера v_1\n",
    "Рекомендация\n",
    "\n",
    "Важно объяснить результаты приоритизации в контексте наших гипотез (не просто на номера гипотез обращать внимание, а на то, о чем эти гипотезы)\n",
    "\n",
    "</div>"
   ]
  },
  {
   "cell_type": "markdown",
   "id": "18f410db",
   "metadata": {},
   "source": [
    "<div class=\"alert alert-block alert-info\">\n",
    "\n",
    "### Комментарий студента:\n",
    "Поправил.\n",
    "\n",
    "</div>"
   ]
  },
  {
   "cell_type": "markdown",
   "id": "97ed0a41",
   "metadata": {},
   "source": [
    "<div class=\"alert alert-block alert-success\">\n",
    "\n",
    "    \n",
    "### Комментарий от ревьюера v_2\n",
    "\n",
    "👍🏻\n",
    "    \n",
    "</div>"
   ]
  },
  {
   "cell_type": "markdown",
   "id": "a94d8b22",
   "metadata": {},
   "source": [
    "## Вторая часть проекта. Анализ результатов АВ теста."
   ]
  },
  {
   "cell_type": "code",
   "execution_count": 6,
   "id": "80e14128",
   "metadata": {},
   "outputs": [
    {
     "name": "stdout",
     "output_type": "stream",
     "text": [
      "<class 'pandas.core.frame.DataFrame'>\n",
      "RangeIndex: 1197 entries, 0 to 1196\n",
      "Data columns (total 5 columns):\n",
      " #   Column         Non-Null Count  Dtype \n",
      "---  ------         --------------  ----- \n",
      " 0   transactionId  1197 non-null   int64 \n",
      " 1   visitorId      1197 non-null   int64 \n",
      " 2   date           1197 non-null   object\n",
      " 3   revenue        1197 non-null   int64 \n",
      " 4   group          1197 non-null   object\n",
      "dtypes: int64(3), object(2)\n",
      "memory usage: 46.9+ KB\n"
     ]
    },
    {
     "data": {
      "text/html": [
       "<div>\n",
       "<style scoped>\n",
       "    .dataframe tbody tr th:only-of-type {\n",
       "        vertical-align: middle;\n",
       "    }\n",
       "\n",
       "    .dataframe tbody tr th {\n",
       "        vertical-align: top;\n",
       "    }\n",
       "\n",
       "    .dataframe thead th {\n",
       "        text-align: right;\n",
       "    }\n",
       "</style>\n",
       "<table border=\"1\" class=\"dataframe\">\n",
       "  <thead>\n",
       "    <tr style=\"text-align: right;\">\n",
       "      <th></th>\n",
       "      <th>transactionId</th>\n",
       "      <th>visitorId</th>\n",
       "      <th>date</th>\n",
       "      <th>revenue</th>\n",
       "      <th>group</th>\n",
       "    </tr>\n",
       "  </thead>\n",
       "  <tbody>\n",
       "    <tr>\n",
       "      <th>0</th>\n",
       "      <td>3667963787</td>\n",
       "      <td>3312258926</td>\n",
       "      <td>2019-08-15</td>\n",
       "      <td>1650</td>\n",
       "      <td>B</td>\n",
       "    </tr>\n",
       "    <tr>\n",
       "      <th>1</th>\n",
       "      <td>2804400009</td>\n",
       "      <td>3642806036</td>\n",
       "      <td>2019-08-15</td>\n",
       "      <td>730</td>\n",
       "      <td>B</td>\n",
       "    </tr>\n",
       "    <tr>\n",
       "      <th>2</th>\n",
       "      <td>2961555356</td>\n",
       "      <td>4069496402</td>\n",
       "      <td>2019-08-15</td>\n",
       "      <td>400</td>\n",
       "      <td>A</td>\n",
       "    </tr>\n",
       "    <tr>\n",
       "      <th>3</th>\n",
       "      <td>3797467345</td>\n",
       "      <td>1196621759</td>\n",
       "      <td>2019-08-15</td>\n",
       "      <td>9759</td>\n",
       "      <td>B</td>\n",
       "    </tr>\n",
       "    <tr>\n",
       "      <th>4</th>\n",
       "      <td>2282983706</td>\n",
       "      <td>2322279887</td>\n",
       "      <td>2019-08-15</td>\n",
       "      <td>2308</td>\n",
       "      <td>B</td>\n",
       "    </tr>\n",
       "    <tr>\n",
       "      <th>5</th>\n",
       "      <td>182168103</td>\n",
       "      <td>935554773</td>\n",
       "      <td>2019-08-15</td>\n",
       "      <td>2210</td>\n",
       "      <td>B</td>\n",
       "    </tr>\n",
       "    <tr>\n",
       "      <th>6</th>\n",
       "      <td>398296753</td>\n",
       "      <td>2900797465</td>\n",
       "      <td>2019-08-15</td>\n",
       "      <td>1860</td>\n",
       "      <td>B</td>\n",
       "    </tr>\n",
       "    <tr>\n",
       "      <th>7</th>\n",
       "      <td>2626614568</td>\n",
       "      <td>78758296</td>\n",
       "      <td>2019-08-15</td>\n",
       "      <td>1044</td>\n",
       "      <td>A</td>\n",
       "    </tr>\n",
       "    <tr>\n",
       "      <th>8</th>\n",
       "      <td>1576988021</td>\n",
       "      <td>295230930</td>\n",
       "      <td>2019-08-15</td>\n",
       "      <td>13710</td>\n",
       "      <td>A</td>\n",
       "    </tr>\n",
       "    <tr>\n",
       "      <th>9</th>\n",
       "      <td>1506739906</td>\n",
       "      <td>1882260405</td>\n",
       "      <td>2019-08-15</td>\n",
       "      <td>1855</td>\n",
       "      <td>B</td>\n",
       "    </tr>\n",
       "  </tbody>\n",
       "</table>\n",
       "</div>"
      ],
      "text/plain": [
       "   transactionId   visitorId        date  revenue group\n",
       "0     3667963787  3312258926  2019-08-15     1650     B\n",
       "1     2804400009  3642806036  2019-08-15      730     B\n",
       "2     2961555356  4069496402  2019-08-15      400     A\n",
       "3     3797467345  1196621759  2019-08-15     9759     B\n",
       "4     2282983706  2322279887  2019-08-15     2308     B\n",
       "5      182168103   935554773  2019-08-15     2210     B\n",
       "6      398296753  2900797465  2019-08-15     1860     B\n",
       "7     2626614568    78758296  2019-08-15     1044     A\n",
       "8     1576988021   295230930  2019-08-15    13710     A\n",
       "9     1506739906  1882260405  2019-08-15     1855     B"
      ]
     },
     "metadata": {},
     "output_type": "display_data"
    }
   ],
   "source": [
    "try:\n",
    "    orders= pd.read_csv(r\"C:\\Users\\Пользователь\\Documents\\Data Analyst\\Проект АВ тесты\\orders.csv\")\n",
    "    visitors= pd.read_csv(r\"C:\\Users\\Пользователь\\Documents\\Data Analyst\\Проект АВ тесты\\visitors.csv\")\n",
    "    \n",
    "except:\n",
    "    #orders = pd.read_csv(\"orders.csv\")\n",
    "    #visitors = pd.read_csv(\"visitors.csv\")\n",
    "    orders = pd.read_csv(\"/datasets/orders.csv\")\n",
    "    visitors = pd.read_csv(\"/datasets/visitors.csv\")\n",
    "orders.info()\n",
    "display(orders.head(10))\n"
   ]
  },
  {
   "cell_type": "code",
   "execution_count": 7,
   "id": "d918fe27",
   "metadata": {},
   "outputs": [
    {
     "name": "stdout",
     "output_type": "stream",
     "text": [
      "<class 'pandas.core.frame.DataFrame'>\n",
      "RangeIndex: 62 entries, 0 to 61\n",
      "Data columns (total 3 columns):\n",
      " #   Column    Non-Null Count  Dtype \n",
      "---  ------    --------------  ----- \n",
      " 0   date      62 non-null     object\n",
      " 1   group     62 non-null     object\n",
      " 2   visitors  62 non-null     int64 \n",
      "dtypes: int64(1), object(2)\n",
      "memory usage: 1.6+ KB\n"
     ]
    },
    {
     "data": {
      "text/html": [
       "<div>\n",
       "<style scoped>\n",
       "    .dataframe tbody tr th:only-of-type {\n",
       "        vertical-align: middle;\n",
       "    }\n",
       "\n",
       "    .dataframe tbody tr th {\n",
       "        vertical-align: top;\n",
       "    }\n",
       "\n",
       "    .dataframe thead th {\n",
       "        text-align: right;\n",
       "    }\n",
       "</style>\n",
       "<table border=\"1\" class=\"dataframe\">\n",
       "  <thead>\n",
       "    <tr style=\"text-align: right;\">\n",
       "      <th></th>\n",
       "      <th>date</th>\n",
       "      <th>group</th>\n",
       "      <th>visitors</th>\n",
       "    </tr>\n",
       "  </thead>\n",
       "  <tbody>\n",
       "    <tr>\n",
       "      <th>0</th>\n",
       "      <td>2019-08-01</td>\n",
       "      <td>A</td>\n",
       "      <td>719</td>\n",
       "    </tr>\n",
       "    <tr>\n",
       "      <th>1</th>\n",
       "      <td>2019-08-02</td>\n",
       "      <td>A</td>\n",
       "      <td>619</td>\n",
       "    </tr>\n",
       "    <tr>\n",
       "      <th>2</th>\n",
       "      <td>2019-08-03</td>\n",
       "      <td>A</td>\n",
       "      <td>507</td>\n",
       "    </tr>\n",
       "    <tr>\n",
       "      <th>3</th>\n",
       "      <td>2019-08-04</td>\n",
       "      <td>A</td>\n",
       "      <td>717</td>\n",
       "    </tr>\n",
       "    <tr>\n",
       "      <th>4</th>\n",
       "      <td>2019-08-05</td>\n",
       "      <td>A</td>\n",
       "      <td>756</td>\n",
       "    </tr>\n",
       "    <tr>\n",
       "      <th>5</th>\n",
       "      <td>2019-08-06</td>\n",
       "      <td>A</td>\n",
       "      <td>667</td>\n",
       "    </tr>\n",
       "    <tr>\n",
       "      <th>6</th>\n",
       "      <td>2019-08-07</td>\n",
       "      <td>A</td>\n",
       "      <td>644</td>\n",
       "    </tr>\n",
       "    <tr>\n",
       "      <th>7</th>\n",
       "      <td>2019-08-08</td>\n",
       "      <td>A</td>\n",
       "      <td>610</td>\n",
       "    </tr>\n",
       "    <tr>\n",
       "      <th>8</th>\n",
       "      <td>2019-08-09</td>\n",
       "      <td>A</td>\n",
       "      <td>617</td>\n",
       "    </tr>\n",
       "    <tr>\n",
       "      <th>9</th>\n",
       "      <td>2019-08-10</td>\n",
       "      <td>A</td>\n",
       "      <td>406</td>\n",
       "    </tr>\n",
       "  </tbody>\n",
       "</table>\n",
       "</div>"
      ],
      "text/plain": [
       "         date group  visitors\n",
       "0  2019-08-01     A       719\n",
       "1  2019-08-02     A       619\n",
       "2  2019-08-03     A       507\n",
       "3  2019-08-04     A       717\n",
       "4  2019-08-05     A       756\n",
       "5  2019-08-06     A       667\n",
       "6  2019-08-07     A       644\n",
       "7  2019-08-08     A       610\n",
       "8  2019-08-09     A       617\n",
       "9  2019-08-10     A       406"
      ]
     },
     "metadata": {},
     "output_type": "display_data"
    }
   ],
   "source": [
    "visitors.info()\n",
    "display(visitors.head(10))"
   ]
  },
  {
   "cell_type": "code",
   "execution_count": 8,
   "id": "70c9a659",
   "metadata": {},
   "outputs": [
    {
     "name": "stdout",
     "output_type": "stream",
     "text": [
      "Количество дубликатов в orders: 0\n",
      "Количество дубликатов в visitors: 0\n",
      "<class 'pandas.core.frame.DataFrame'>\n",
      "RangeIndex: 1197 entries, 0 to 1196\n",
      "Data columns (total 5 columns):\n",
      " #   Column         Non-Null Count  Dtype \n",
      "---  ------         --------------  ----- \n",
      " 0   transactionId  1197 non-null   int64 \n",
      " 1   visitorId      1197 non-null   int64 \n",
      " 2   date           1197 non-null   object\n",
      " 3   revenue        1197 non-null   int64 \n",
      " 4   group          1197 non-null   object\n",
      "dtypes: int64(3), object(2)\n",
      "memory usage: 46.9+ KB\n",
      "<class 'pandas.core.frame.DataFrame'>\n",
      "RangeIndex: 62 entries, 0 to 61\n",
      "Data columns (total 3 columns):\n",
      " #   Column    Non-Null Count  Dtype \n",
      "---  ------    --------------  ----- \n",
      " 0   date      62 non-null     object\n",
      " 1   group     62 non-null     object\n",
      " 2   visitors  62 non-null     int64 \n",
      "dtypes: int64(1), object(2)\n",
      "memory usage: 1.6+ KB\n"
     ]
    }
   ],
   "source": [
    "# проверим датафреймы на наличие дубликатов, посчитаем их количество и, если они есть, избавимся от них.\n",
    "orders_duplicates = orders[orders.duplicated()]\n",
    "orders_duplicates_count = len(orders_duplicates)\n",
    "print ('Количество дубликатов в orders:', orders_duplicates_count)\n",
    "\n",
    "visitors_duplicates = visitors[visitors.duplicated()]\n",
    "visitors_duplicates_count = len(visitors_duplicates)\n",
    "print ('Количество дубликатов в visitors:', visitors_duplicates_count)\n",
    "\n",
    "orders.info()\n",
    "visitors.info()"
   ]
  },
  {
   "cell_type": "markdown",
   "id": "9e0cc44e",
   "metadata": {},
   "source": [
    "Дубликатов не обнаружено."
   ]
  },
  {
   "cell_type": "markdown",
   "id": "eae69252",
   "metadata": {},
   "source": [
    "<div class=\"alert alert-block alert-warning\">\n",
    "    \n",
    "### Комментарий от ревьюера v_1\n",
    "Рекомендация\n",
    "\n",
    "Перед удалением дубликатов надо хотя бы посчитать их. Следует знать качество исследуемых данных \n",
    "\n",
    "</div>"
   ]
  },
  {
   "cell_type": "markdown",
   "id": "62c7684c",
   "metadata": {},
   "source": [
    "<div class=\"alert alert-block alert-info\">\n",
    "\n",
    "### Комментарий студента:\n",
    "Поправил. Посчитал количество дубликатов. Удалять оказалось нечего.\n",
    "\n",
    "</div>"
   ]
  },
  {
   "cell_type": "markdown",
   "id": "b9e70761",
   "metadata": {},
   "source": [
    "<div class=\"alert alert-block alert-success\">\n",
    "\n",
    "    \n",
    "### Комментарий от ревьюера v_2\n",
    "\n",
    "Да, тут дубликатов нет:)\n",
    "    \n",
    "</div>"
   ]
  },
  {
   "cell_type": "code",
   "execution_count": 9,
   "id": "5d10c458",
   "metadata": {},
   "outputs": [
    {
     "data": {
      "text/plain": [
       "58"
      ]
     },
     "execution_count": 9,
     "metadata": {},
     "output_type": "execute_result"
    }
   ],
   "source": [
    "# проверим на правильность рапределения по группам. Возможно некоторые пользователи попали в обе группы.\n",
    "group_a = orders.query('group == \"A\"')\n",
    "group_b = orders.query('group == \"B\"')\n",
    "repeated_users = group_a.merge(group_b, on = 'visitorId')['visitorId'].unique()\n",
    "len(repeated_users)"
   ]
  },
  {
   "cell_type": "code",
   "execution_count": 10,
   "id": "30e5fc85",
   "metadata": {},
   "outputs": [
    {
     "data": {
      "text/plain": [
       "1031"
      ]
     },
     "execution_count": 10,
     "metadata": {},
     "output_type": "execute_result"
    }
   ],
   "source": [
    "len(orders['visitorId'].unique())"
   ]
  },
  {
   "cell_type": "code",
   "execution_count": 11,
   "id": "cd016897",
   "metadata": {},
   "outputs": [
    {
     "name": "stdout",
     "output_type": "stream",
     "text": [
      "<class 'pandas.core.frame.DataFrame'>\n",
      "Int64Index: 1016 entries, 0 to 1196\n",
      "Data columns (total 5 columns):\n",
      " #   Column         Non-Null Count  Dtype \n",
      "---  ------         --------------  ----- \n",
      " 0   transactionId  1016 non-null   int64 \n",
      " 1   visitorId      1016 non-null   int64 \n",
      " 2   date           1016 non-null   object\n",
      " 3   revenue        1016 non-null   int64 \n",
      " 4   group          1016 non-null   object\n",
      "dtypes: int64(3), object(2)\n",
      "memory usage: 47.6+ KB\n"
     ]
    }
   ],
   "source": [
    "orders = orders.query('visitorId not in @repeated_users')\n",
    "orders.info()"
   ]
  },
  {
   "cell_type": "markdown",
   "id": "35e53a70",
   "metadata": {},
   "source": [
    "Найдено 58 пользователей, которые ошибочно попали в обе группы. Их удельный вес в общем количестве пользователей около 5%.\n",
    "Достаточно,чтоб исказить данные. Лучше их удалить."
   ]
  },
  {
   "cell_type": "markdown",
   "id": "45ad2e9c",
   "metadata": {},
   "source": [
    "<div class=\"alert alert-block alert-success\">\n",
    "    \n",
    "\n",
    "### Комментарий от ревьюера v_1\n",
    "Отлично\n",
    "    \n",
    "Здорово, что находишь таких клиентов 👍\n",
    "    \n",
    "Есть еще способ с помощь группировки\n",
    "    \n",
    "```python\n",
    "# выделили клиентов, попавших более чем в одну группу\n",
    "bad_clients = orders.groupby('visitorId').agg({'group' : 'nunique'}).reset_index().query('group>1')['visitorId']\n",
    "    \n",
    "# отфильтровали по ним\n",
    "orders = orders.query('visitorId not in @bad_clients')\n",
    "```\n",
    "    \n",
    "На практике такое иногда случается, от таких пользователей лучше избавиться\n",
    "    \n",
    "Но здесь можно и оставить, к тому же в нашей работе их можно убрать только из таблицы с заказами\n",
    "    \n",
    "Рекомендую еще посмотреть:\n",
    "- сколько у нас групп в АВ-тесте;\n",
    "- даты начала и окончания теста;\n",
    "- сколько пользователей в каждой группе - по таблице с заказами;\n",
    "</div>"
   ]
  },
  {
   "cell_type": "markdown",
   "id": "52f8ce08",
   "metadata": {},
   "source": [
    "### Куммулятивная выручка по группам\n",
    "Исследуем кумулятивную выручку по группам. Посмотрим как она меняется со временем."
   ]
  },
  {
   "cell_type": "code",
   "execution_count": 12,
   "id": "b232c1c8",
   "metadata": {},
   "outputs": [
    {
     "name": "stdout",
     "output_type": "stream",
     "text": [
      "   transactionId   visitorId       date  revenue group\n",
      "0     3667963787  3312258926 2019-08-15     1650     B\n",
      "1     2804400009  3642806036 2019-08-15      730     B\n",
      "3     3797467345  1196621759 2019-08-15     9759     B\n",
      "4     2282983706  2322279887 2019-08-15     2308     B\n",
      "5      182168103   935554773 2019-08-15     2210     B\n",
      "        date group  visitors\n",
      "0 2019-08-01     A       719\n",
      "1 2019-08-02     A       619\n",
      "2 2019-08-03     A       507\n",
      "3 2019-08-04     A       717\n",
      "4 2019-08-05     A       756\n",
      "        date group  orders  buyers  revenue  visitors\n",
      "0 2019-08-01     A      23      19   142779       719\n",
      "1 2019-08-01     B      17      17    59758       713\n",
      "2 2019-08-02     A      42      36   234381      1338\n",
      "3 2019-08-02     B      40      39   221801      1294\n",
      "4 2019-08-03     A      66      60   346854      1845\n"
     ]
    }
   ],
   "source": [
    "\n",
    "orders['date'] = orders['date'].map(\n",
    "    lambda x: dt.datetime.strptime(x, '%Y-%m-%d')\n",
    ")\n",
    "\n",
    "\n",
    "visitors['date'] = visitors['date'].map(\n",
    "    lambda x: dt.datetime.strptime(x, '%Y-%m-%d')\n",
    ")\n",
    "\n",
    "print(orders.head(5))\n",
    "print(visitors.head(5))\n",
    "\n",
    "# создаем массив уникальных пар значений дат и групп теста\n",
    "datesGroups = orders[['date','group']].drop_duplicates()\n",
    "\n",
    "# получаем агрегированные кумулятивные по дням данные о заказах \n",
    "ordersAggregated = datesGroups.apply(\n",
    "    lambda x: orders[np.logical_and(orders['date'] <= x['date'], orders['group'] == x['group'])].agg({\n",
    "'date' : 'max',\n",
    "'group' : 'max',\n",
    "'transactionId' : pd.Series.nunique,\n",
    "'visitorId' : pd.Series.nunique,\n",
    "'revenue' : 'sum'}), axis=1).sort_values(by=['date','group']) \n",
    "\n",
    "\n",
    "# получаем агрегированные кумулятивные по дням данные о посетителях интернет-магазина \n",
    "visitorsAggregated = datesGroups.apply(lambda x: visitors[np.logical_and(visitors['date'] <= x['date'], visitors['group'] == x['group'])].agg({'date' : 'max', 'group' : 'max', 'visitors' : 'sum'}), axis=1).sort_values(by=['date','group'])\n",
    "\n",
    "# объединяем кумулятивные данные в одной таблице и присваиваем ее столбцам понятные названия\n",
    "cumulativeData = ordersAggregated.merge(visitorsAggregated, left_on=['date', 'group'], right_on=['date', 'group'])\n",
    "cumulativeData.columns = ['date', 'group', 'orders', 'buyers', 'revenue', 'visitors']\n",
    "\n",
    "print(cumulativeData.head(5)) "
   ]
  },
  {
   "cell_type": "code",
   "execution_count": 13,
   "id": "bba95e91",
   "metadata": {},
   "outputs": [
    {
     "data": {
      "text/plain": [
       "<matplotlib.legend.Legend at 0x7f799f4959d0>"
      ]
     },
     "execution_count": 13,
     "metadata": {},
     "output_type": "execute_result"
    },
    {
     "data": {
      "image/png": "[encoded data removed]",
      "text/plain": [
       "<Figure size 432x288 with 1 Axes>"
      ]
     },
     "metadata": {
      "needs_background": "light"
     },
     "output_type": "display_data"
    }
   ],
   "source": [
    "# датафрейм с кумулятивным количеством заказов и кумулятивной выручкой по дням в группе А\n",
    "cumulativeRevenueA = cumulativeData[cumulativeData['group']=='A'][['date','revenue', 'orders']]\n",
    "\n",
    "# датафрейм с кумулятивным количеством заказов и кумулятивной выручкой по дням в группе B\n",
    "cumulativeRevenueB = cumulativeData[cumulativeData['group']=='B'][['date','revenue', 'orders']]\n",
    "\n",
    "plt.title('График кумулятивной выручки по группам')\n",
    "plt.xlabel('Дата')\n",
    "plt.ylabel('Выручка')\n",
    "# Строим график выручки группы А\n",
    "plt.plot(cumulativeRevenueA['date'], cumulativeRevenueA['revenue'], label='A')\n",
    "\n",
    "# Строим график выручки группы B\n",
    "plt.plot(cumulativeRevenueB['date'], cumulativeRevenueB['revenue'], label='B')\n",
    "plt.xticks(rotation=45)\n",
    "plt.legend() "
   ]
  },
  {
   "cell_type": "markdown",
   "id": "3d7e8fca",
   "metadata": {},
   "source": [
    "На графике видим плавное увеличение кумулятивной выручки группы А и резкий скачок 18.08.2019 в группе В. Это может говорить о резком увеличении числа заказов или о нескольких очень больших заказах. Но так же это может говорить о наличии выбросов в данных по группе В."
   ]
  },
  {
   "cell_type": "markdown",
   "id": "79ed5f1e",
   "metadata": {},
   "source": [
    "<div class=\"alert alert-block alert-success\">\n",
    "    \n",
    "\n",
    "### Комментарий от ревьюера v_1\n",
    "Отлично\n",
    "    \n",
    "Молодец, что обращаешь внимание на необычный скачок и даешь предположения как он мог появиться 👍\n",
    "    \n",
    "Но очень большие заказы это и есть выбросы:)\n",
    "    \n",
    "Чтобы не выводить техническую информацию, а только сам график, ставь в конце кода ;\n",
    "    \n",
    "</div>"
   ]
  },
  {
   "cell_type": "markdown",
   "id": "c98e8832",
   "metadata": {},
   "source": [
    "<div class=\"alert alert-block alert-danger\">\n",
    "    \n",
    "\n",
    "### Комментарий от ревьюера v_1\n",
    "Критично\n",
    "\n",
    "Графики следует оформить, а именно дать им названия и подписать оси. Данный коммент ко всему проекту относится  (в том числе и к точечным графикам)\n",
    "    \n",
    "    \n",
    "</div>"
   ]
  },
  {
   "cell_type": "markdown",
   "id": "2c004455",
   "metadata": {},
   "source": [
    "<div class=\"alert alert-block alert-info\">\n",
    "\n",
    "### Комментарий студента:\n",
    "    \n",
    "    Сделал. Подписи осей и названия графиков добавил\n",
    "\n",
    "</div>"
   ]
  },
  {
   "cell_type": "markdown",
   "id": "dc693e0b",
   "metadata": {},
   "source": [
    "<div class=\"alert alert-block alert-success\">\n",
    "\n",
    "    \n",
    "### Комментарий от ревьюера v_2\n",
    "\n",
    "👍🏻\n",
    "    \n",
    "</div>"
   ]
  },
  {
   "cell_type": "markdown",
   "id": "af07f112",
   "metadata": {},
   "source": [
    "### Кумулятивный средний чек \n",
    "Построим графики среднего чека по группам — разделим кумулятивную выручку на кумулятивное число заказов:\n"
   ]
  },
  {
   "cell_type": "code",
   "execution_count": 14,
   "id": "1fa1f5f2",
   "metadata": {},
   "outputs": [
    {
     "data": {
      "text/plain": [
       "<matplotlib.legend.Legend at 0x7f799f13aaf0>"
      ]
     },
     "execution_count": 14,
     "metadata": {},
     "output_type": "execute_result"
    },
    {
     "data": {
      "image/png": "[encoded data removed]",
      "text/plain": [
       "<Figure size 432x288 with 1 Axes>"
      ]
     },
     "metadata": {
      "needs_background": "light"
     },
     "output_type": "display_data"
    }
   ],
   "source": [
    "plt.plot(cumulativeRevenueA['date'], cumulativeRevenueA['revenue']/cumulativeRevenueA['orders'], label='A')\n",
    "plt.plot(cumulativeRevenueB['date'], cumulativeRevenueB['revenue']/cumulativeRevenueB['orders'], label='B')\n",
    "plt.title('График кумулятивного среднего чека по группам')\n",
    "plt.xlabel('Дата')\n",
    "plt.ylabel('Средний чек')\n",
    "plt.xticks(rotation = 45)\n",
    "plt.legend() "
   ]
  },
  {
   "cell_type": "markdown",
   "id": "0b4247df",
   "metadata": {},
   "source": [
    "График показывает резкий скачок размера среднего чека в группе В, и потом постепенное снижение. Аналогичную историю наблюдаем на данных группы А. Очень похоже на выбросы.\n",
    "Построим график относительного различия для среднего чека. Добавим горизонтальную ось методом axhline() "
   ]
  },
  {
   "cell_type": "markdown",
   "id": "d266f3b9",
   "metadata": {},
   "source": [
    "<div class=\"alert alert-block alert-success\">\n",
    "    \n",
    "\n",
    "### Комментарий от ревьюера v_1\n",
    "Отлично\n",
    "    \n",
    "Вот и выяснили откуда такой скачок был))\n",
    "    \n",
    "Интересно было бы посмотреть на график без явного выброса\n",
    "    \n",
    "</div>"
   ]
  },
  {
   "cell_type": "code",
   "execution_count": 15,
   "id": "c2accb79",
   "metadata": {},
   "outputs": [
    {
     "data": {
      "image/png": "[encoded data removed]",
      "text/plain": [
       "<Figure size 432x288 with 1 Axes>"
      ]
     },
     "metadata": {
      "needs_background": "light"
     },
     "output_type": "display_data"
    }
   ],
   "source": [
    "# собираем данные в одном датафрейме\n",
    "mergedCumulativeRevenue = cumulativeRevenueA.merge(cumulativeRevenueB, left_on='date', right_on='date', how='left', suffixes=['A', 'B'])\n",
    "plt.title('График разницы кумулятивного среднего чека по группам')\n",
    "plt.xlabel('Дата')\n",
    "plt.ylabel('Дельта')\n",
    "plt.xticks(rotation=45)\n",
    "\n",
    "# cтроим отношение средних чеков\n",
    "plt.plot(mergedCumulativeRevenue['date'], (mergedCumulativeRevenue['revenueB']/mergedCumulativeRevenue['ordersB'])/(mergedCumulativeRevenue['revenueA']/mergedCumulativeRevenue['ordersA'])-1)\n",
    "\n",
    "# добавляем ось X\n",
    "plt.axhline(y=0, color='black', linestyle='--') ;\n"
   ]
  },
  {
   "cell_type": "markdown",
   "id": "eee0a282",
   "metadata": {},
   "source": [
    "В нескольких точках (07.08 и 09.08, а так же с 20.08 по 23.08) график различия между сегментами резко «скачет». Где-то уж точно спрятались крупные заказы и выбросы! Найдём их позже."
   ]
  },
  {
   "cell_type": "markdown",
   "id": "57c36a42",
   "metadata": {},
   "source": [
    "### Кумулятивное среднее количество заказов.\n"
   ]
  },
  {
   "cell_type": "code",
   "execution_count": 16,
   "id": "e139e811",
   "metadata": {},
   "outputs": [
    {
     "data": {
      "image/png": "[encoded data removed]",
      "text/plain": [
       "<Figure size 432x288 with 1 Axes>"
      ]
     },
     "metadata": {
      "needs_background": "light"
     },
     "output_type": "display_data"
    }
   ],
   "source": [
    "# считаем кумулятивную конверсию\n",
    "cumulativeData['conversion'] = cumulativeData['orders']/cumulativeData['visitors']\n",
    "\n",
    "# отделяем данные по группе A\n",
    "cumulativeDataA = cumulativeData[cumulativeData['group']=='A']\n",
    "\n",
    "# отделяем данные по группе B\n",
    "cumulativeDataB = cumulativeData[cumulativeData['group']=='B']\n",
    "\n",
    "# строим графики\n",
    "plt.plot(cumulativeDataA['date'], cumulativeDataA['conversion'], label='A')\n",
    "plt.plot(cumulativeDataB['date'], cumulativeDataB['conversion'], label='B')\n",
    "\n",
    "plt.title('График кумулятивной конверсии по группам')\n",
    "plt.xlabel('Дата')\n",
    "plt.ylabel('Конверсия')\n",
    "plt.legend()\n",
    "plt.xticks(rotation=45);\n",
    "\n",
    "\n",
    "\n",
    "\n",
    "\n"
   ]
  },
  {
   "cell_type": "markdown",
   "id": "4aad5b96",
   "metadata": {},
   "source": [
    "Из графика мы видим, что динамика количества заказов у группы В опережает группу А. Плавно, без скачков, к концу месяца разница составляет около 100, тренд на увеличениее по отношению к заказам группы А сохраняется.\n",
    "Построим график относительного различия кумулятивной конверсии по группам."
   ]
  },
  {
   "cell_type": "code",
   "execution_count": 17,
   "id": "a84da16a",
   "metadata": {},
   "outputs": [
    {
     "data": {
      "image/png": "[encoded data removed]",
      "text/plain": [
       "<Figure size 432x288 with 1 Axes>"
      ]
     },
     "metadata": {
      "needs_background": "light"
     },
     "output_type": "display_data"
    }
   ],
   "source": [
    "mergedCumulativeConversions = cumulativeDataA[['date','conversion']].merge(cumulativeDataB[['date','conversion']], left_on='date', right_on='date', how='left', suffixes=['A', 'B'])\n",
    "\n",
    "plt.plot(mergedCumulativeConversions['date'], mergedCumulativeConversions['conversionB']/mergedCumulativeConversions['conversionA']-1, label=\"Относительный прирост конверсии группы B относительно группы A\")\n",
    "\n",
    "plt.title('График разницы кумулятивной конверсии по группам')\n",
    "plt.xlabel('Дата')\n",
    "plt.ylabel('Конверсия')\n",
    "plt.legend()\n",
    "plt.xticks(rotation=45);\n",
    "plt.axhline(y=0, color='black', linestyle='--')\n",
    "plt.axhline(y=-0.1, color='grey', linestyle='--')\n",
    "plt.xticks(rotation=45);\n",
    "\n"
   ]
  },
  {
   "cell_type": "markdown",
   "id": "53f7b4fc",
   "metadata": {},
   "source": [
    "<div class=\"alert alert-block alert-danger\">\n",
    "    \n",
    "\n",
    "### Комментарий от ревьюера v_1\n",
    "Критично\n",
    "\n",
    "Под средним числом заказов имеется ввиду отношение числа заказов к числу посетителей. На твоем графике просто число заказов, в абсолютной величине\n",
    "    \n",
    "</div>\n",
    "    "
   ]
  },
  {
   "cell_type": "markdown",
   "id": "d67f43cf",
   "metadata": {},
   "source": [
    "<div class=\"alert alert-block alert-info\">\n",
    "\n",
    "### Комментарий студента:\n",
    "    \n",
    "    Исправил. \n",
    "\n",
    "</div>"
   ]
  },
  {
   "cell_type": "markdown",
   "id": "a4263cb1",
   "metadata": {},
   "source": [
    "<div class=\"alert alert-block alert-success\">\n",
    "\n",
    "    \n",
    "### Комментарий от ревьюера v_2\n",
    "\n",
    "👍🏻\n",
    "    \n",
    "Только это не конверсия, а среднее число заказов. Конверсия - это переход из посетителя в покупатели, независимо от количество покупок. И в данной работе мы не можем посчитать конверсию, потому что данные по посещениям у нас агрегированные \n",
    "    \n",
    "</div>"
   ]
  },
  {
   "cell_type": "code",
   "execution_count": 18,
   "id": "67e27371",
   "metadata": {},
   "outputs": [
    {
     "data": {
      "text/plain": [
       "<matplotlib.lines.Line2D at 0x7f795b64f760>"
      ]
     },
     "execution_count": 18,
     "metadata": {},
     "output_type": "execute_result"
    },
    {
     "data": {
      "image/png": "[encoded data removed]",
      "text/plain": [
       "<Figure size 432x288 with 1 Axes>"
      ]
     },
     "metadata": {
      "needs_background": "light"
     },
     "output_type": "display_data"
    }
   ],
   "source": [
    "mergedCumulativeOrders = cumulativeDataA[['date','orders']].merge(cumulativeDataB[['date','orders']], left_on='date', right_on='date', how='left', suffixes=['A', 'B'])\n",
    "plt.title('График разницы количества заказов  по группам')\n",
    "plt.xlabel('Дата')\n",
    "plt.ylabel('Разница')\n",
    "plt.plot(mergedCumulativeOrders['date'], mergedCumulativeOrders['ordersB']/mergedCumulativeOrders['ordersA']-1, label=\"Относительный прирост количества заказов группы B относительно группы A\")\n",
    "plt.legend()\n",
    "plt.xticks(rotation=45)\n",
    "plt.axhline(y=0, color='black', linestyle='--')\n",
    "plt.axhline(y=-0.1, color='grey', linestyle='--')\n",
    "plt.axhline(y=0.1, color='grey', linestyle='--')\n"
   ]
  },
  {
   "cell_type": "markdown",
   "id": "e4da5a8e",
   "metadata": {},
   "source": [
    "До 07.08 группа А показывает лучший результат по отношению к количеству заказов группы В. Но уже с 07.08 положительная динамика\n",
    "кумулятивных заказов группы В дает результат. Резкий взлет до разницы в 17%  и даже до 20% к 17.08. Либо изменения и вправду дали такой колоссальный эффект, либо в данных присутствуют выбросы. Оценим количество заказов еще одним способом. Построим точеченый график."
   ]
  },
  {
   "cell_type": "markdown",
   "id": "9f133f27",
   "metadata": {},
   "source": [
    "<div class=\"alert alert-block alert-success\">\n",
    "    \n",
    "\n",
    "### Комментарий от ревьюера v_1\n",
    "Отлично\n",
    "    \n",
    "Очень к месту axhline на 0.10, наглядно видно, что на протяжении почти всего теста число заказов группы B была выше более чем на 10%\n",
    "    \n",
    "</div>"
   ]
  },
  {
   "cell_type": "code",
   "execution_count": 19,
   "id": "7eca42da",
   "metadata": {},
   "outputs": [
    {
     "data": {
      "text/plain": [
       "<matplotlib.collections.PathCollection at 0x7f795b61cb50>"
      ]
     },
     "execution_count": 19,
     "metadata": {},
     "output_type": "execute_result"
    },
    {
     "data": {
      "image/png": "[encoded data removed]",
      "text/plain": [
       "<Figure size 720x576 with 1 Axes>"
      ]
     },
     "metadata": {
      "needs_background": "light"
     },
     "output_type": "display_data"
    }
   ],
   "source": [
    "orders_count=orders['transactionId'].groupby(orders['visitorId']).count()\n",
    "plt.figure(figsize=(10,8))\n",
    "plt.title('График количества заказов пользователей')\n",
    "plt.xlabel('Номер наблюдений')\n",
    "plt.ylabel('Количесвто заказов')\n",
    "x_values = pd.Series(range(0,len(orders_count)))\n",
    "plt.scatter(x_values, orders_count)\n"
   ]
  },
  {
   "cell_type": "markdown",
   "id": "81f18204",
   "metadata": {},
   "source": [
    "На графике четко видно, что основная масса покупателей делали 1-2 заказа, чуть меньше 3 заказа в месяц.\n",
    "Для того, чтобы понять по какой границе отсекать данные, определим 90, 95 и 99 перцентили среднего чека в выборке.\n"
   ]
  },
  {
   "cell_type": "code",
   "execution_count": 20,
   "id": "f160f244",
   "metadata": {},
   "outputs": [
    {
     "name": "stdout",
     "output_type": "stream",
     "text": [
      "[1. 2.]\n"
     ]
    }
   ],
   "source": [
    "print(np.percentile(orders_count, [95, 99])) "
   ]
  },
  {
   "cell_type": "markdown",
   "id": "c67b8d2f",
   "metadata": {},
   "source": [
    "не более 5% пользователей не заказывали более 1 раз., не более 1% пользователей покупали чаще 2 раз. Данные однородны, выбросов нет.\n",
    "Аналогично изучим суммы заказов, построим точечный график и отсечем выбросы."
   ]
  },
  {
   "cell_type": "markdown",
   "id": "aeb3b465",
   "metadata": {},
   "source": [
    "<div class=\"alert alert-block alert-warning\">\n",
    "    \n",
    "\n",
    "### Комментарий от ревьюера v_1\n",
    "Рекомендация\n",
    "    \n",
    "Но ведь больше 3-х ни у кого нет)\n",
    "</div>"
   ]
  },
  {
   "cell_type": "markdown",
   "id": "5d94b4c9",
   "metadata": {},
   "source": [
    "<div class=\"alert alert-block alert-info\">\n",
    "\n",
    "### Комментарий студента: \n",
    "И как быть? отсекать по 2 заказам? Но 3 заказа вполне реальны на юзера за месяц. Было бы неправильно их отбрасывать.\n",
    "\n",
    "</div>"
   ]
  },
  {
   "cell_type": "markdown",
   "id": "404f2fa6",
   "metadata": {},
   "source": [
    "<div class=\"alert alert-block alert-success\">\n",
    "\n",
    "    \n",
    "### Комментарий от ревьюера v_2\n",
    "\n",
    "Можно не отсекать\n",
    "    \n",
    "Если ты считаешь, что такое количество в порядке вещей (а это действительно так), то можешь оставить все данные по этому показателю\n",
    "    \n",
    "</div>"
   ]
  },
  {
   "cell_type": "code",
   "execution_count": 21,
   "id": "dff786ec",
   "metadata": {},
   "outputs": [
    {
     "data": {
      "text/plain": [
       "<matplotlib.collections.PathCollection at 0x7f795b565130>"
      ]
     },
     "execution_count": 21,
     "metadata": {},
     "output_type": "execute_result"
    },
    {
     "data": {
      "image/png": "[encoded data removed]",
      "text/plain": [
       "<Figure size 720x576 with 1 Axes>"
      ]
     },
     "metadata": {
      "needs_background": "light"
     },
     "output_type": "display_data"
    }
   ],
   "source": [
    "x_values = pd.Series(range(0,len(orders['revenue'])))\n",
    "plt.figure(figsize=(10,8))\n",
    "plt.title('График стоимостей заказов')\n",
    "plt.xlabel('Номер наблюдений')\n",
    "plt.ylabel('Стоимость заказа')\n",
    "plt.scatter(x_values, orders['revenue']) "
   ]
  },
  {
   "cell_type": "markdown",
   "id": "c5872c08",
   "metadata": {},
   "source": [
    "По графику видно, что суммы заказов однородны. Видим 2 явных выброса, посмотрим на цифры точнее с помощью перцентилей. Найдем \n",
    "95й и 99й перцентиль."
   ]
  },
  {
   "cell_type": "markdown",
   "id": "ddc803da",
   "metadata": {},
   "source": [
    "<div class=\"alert alert-block alert-warning\">\n",
    "\n",
    "\n",
    "### Комментарий от ревьюера v_1\n",
    "Рекомендация\n",
    "    \n",
    "Из-за одного явного выброса все значения слились в одну прямую, рекомендую нарисовать еще и график без него\n",
    "</div>"
   ]
  },
  {
   "cell_type": "markdown",
   "id": "22bc7471",
   "metadata": {},
   "source": [
    "<div class=\"alert alert-block alert-info\">\n",
    "\n",
    "### Комментарий студента:\n",
    "    График без выброса нароисовал\n",
    "\n",
    "</div>"
   ]
  },
  {
   "cell_type": "markdown",
   "id": "b51ed3b3",
   "metadata": {},
   "source": [
    "<div class=\"alert alert-block alert-success\">\n",
    "\n",
    "    \n",
    "### Комментарий от ревьюера v_2\n",
    "\n",
    "👍🏻\n",
    "    \n",
    "</div>"
   ]
  },
  {
   "cell_type": "code",
   "execution_count": 22,
   "id": "6072ee63",
   "metadata": {},
   "outputs": [
    {
     "name": "stdout",
     "output_type": "stream",
     "text": [
      "[26785. 53904.]\n"
     ]
    }
   ],
   "source": [
    "print(np.percentile(orders['revenue'], [95, 99])) "
   ]
  },
  {
   "cell_type": "markdown",
   "id": "5032b3e3",
   "metadata": {},
   "source": [
    "Не более 5% пользователей делали заказы на сумму выше 26785р., не более 1% пользователей - свыше 53904 р.\n",
    "Установим границу заказов в 26785р., все заказы дороже отсечем как выбросы, искажающие данные."
   ]
  },
  {
   "cell_type": "code",
   "execution_count": 23,
   "id": "f11f8d79",
   "metadata": {},
   "outputs": [
    {
     "data": {
      "text/plain": [
       "<matplotlib.collections.PathCollection at 0x7f795b528c70>"
      ]
     },
     "execution_count": 23,
     "metadata": {},
     "output_type": "execute_result"
    },
    {
     "data": {
      "image/png": "[encoded data removed]",
      "text/plain": [
       "<Figure size 720x576 with 1 Axes>"
      ]
     },
     "metadata": {
      "needs_background": "light"
     },
     "output_type": "display_data"
    }
   ],
   "source": [
    "good_orders = orders[orders['revenue']<np.percentile(orders['revenue'], 95)]\n",
    "x_values_filt = pd.Series(range(0,len(good_orders['revenue'])))\n",
    "plt.figure(figsize=(10,8))\n",
    "plt.title('График стоимостей заказов')\n",
    "plt.xlabel('Номер наблюдений')\n",
    "plt.ylabel('Стоимость заказа')\n",
    "plt.scatter(x_values_filt, good_orders['revenue']) "
   ]
  },
  {
   "cell_type": "markdown",
   "id": "6a2fcd95",
   "metadata": {},
   "source": [
    "<div class=\"alert alert-block alert-warning\">\n",
    "\n",
    "### Комментарий от ревьюера v_1\n",
    "Рекомендация\n",
    "    \n",
    "Чтобы решение было обоснованным, границы следует определять точно по перцентилям\n",
    "</div>"
   ]
  },
  {
   "cell_type": "markdown",
   "id": "2136a2f6",
   "metadata": {},
   "source": [
    "<div class=\"alert alert-block alert-info\">\n",
    "\n",
    "### Комментарий студента:\n",
    "    границу задал строго по 5му перцентилю.\n",
    "\n",
    "</div>"
   ]
  },
  {
   "cell_type": "markdown",
   "id": "c4d2ffa3",
   "metadata": {},
   "source": [
    "<div class=\"alert alert-block alert-success\">\n",
    "\n",
    "    \n",
    "### Комментарий от ревьюера v_2\n",
    "\n",
    "👍🏻\n",
    "    \n",
    "</div>"
   ]
  },
  {
   "cell_type": "markdown",
   "id": "bfa136e5",
   "metadata": {},
   "source": [
    "### Посчитаем статистическую значимость различий \n",
    "в среднем числе заказов на пользователя и среднем чеке между группами по «сырым» данным — без удаления аномальных пользователей.\n",
    "Сформулируем гипотезы. Нулевая: различий в среднем количестве заказов между группами нет. Альтернативная: различия в среднем между группами есть."
   ]
  },
  {
   "cell_type": "markdown",
   "id": "09b2ff3c",
   "metadata": {},
   "source": [
    "<div class=\"alert alert-block alert-success\">\n",
    "        \n",
    "### Комментарий от ревьюера v_1\n",
    "    \n",
    "Гипотезы сформулированы верно 👍\n",
    "\n",
    "Но можно еще указать метод, которым будешь их проверять и выбранный уровень значимости\n",
    "    \n",
    "</div>"
   ]
  },
  {
   "cell_type": "code",
   "execution_count": 24,
   "id": "e399fc87",
   "metadata": {},
   "outputs": [
    {
     "name": "stdout",
     "output_type": "stream",
     "text": [
      "        date  ordersPerDateA  revenuePerDateA  ordersPerDateB  \\\n",
      "0 2019-08-01              23           142779              17   \n",
      "1 2019-08-02              19            91602              23   \n",
      "2 2019-08-03              24           112473              14   \n",
      "3 2019-08-04              11            41176              14   \n",
      "4 2019-08-05              22            86383              21   \n",
      "\n",
      "   revenuePerDateB  ordersCummulativeA  revenueCummulativeA  \\\n",
      "0            59758                  23               142779   \n",
      "1           162043                  42               234381   \n",
      "2            67049                  66               346854   \n",
      "3            96890                  77               388030   \n",
      "4            89908                  99               474413   \n",
      "\n",
      "   ordersCummulativeB  revenueCummulativeB  visitorsPerDateA  \\\n",
      "0                  17                59758               719   \n",
      "1                  40               221801               619   \n",
      "2                  54               288850               507   \n",
      "3                  68               385740               717   \n",
      "4                  89               475648               756   \n",
      "\n",
      "   visitorsPerDateB  visitorsCummulativeA  visitorsCummulativeB  \n",
      "0               713                   719                   713  \n",
      "1               581                  1338                  1294  \n",
      "2               509                  1845                  1803  \n",
      "3               770                  2562                  2573  \n",
      "4               707                  3318                  3280  \n"
     ]
    }
   ],
   "source": [
    "visitorsADaily = visitors[visitors['group'] == 'A'][['date', 'visitors']]\n",
    "visitorsADaily.columns = ['date', 'visitorsPerDateA']\n",
    "\n",
    "visitorsACummulative = visitorsADaily.apply(\n",
    "    lambda x: visitorsADaily[visitorsADaily['date'] <= x['date']].agg(\n",
    "        {'date': 'max', 'visitorsPerDateA': 'sum'}\n",
    "    ),\n",
    "    axis=1,\n",
    ")\n",
    "visitorsACummulative.columns = ['date', 'visitorsCummulativeA']\n",
    "\n",
    "visitorsBDaily = visitors[visitors['group'] == 'B'][['date', 'visitors']]\n",
    "visitorsBDaily.columns = ['date', 'visitorsPerDateB']\n",
    "\n",
    "visitorsBCummulative = visitorsBDaily.apply(\n",
    "    lambda x: visitorsBDaily[visitorsBDaily['date'] <= x['date']].agg(\n",
    "        {'date': 'max', 'visitorsPerDateB': 'sum'}\n",
    "    ),\n",
    "    axis=1,\n",
    ")\n",
    "visitorsBCummulative.columns = ['date', 'visitorsCummulativeB']\n",
    "\n",
    "ordersADaily = (\n",
    "    orders[orders['group'] == 'A'][['date', 'transactionId', 'visitorId', 'revenue']]\n",
    "    .groupby('date', as_index=False)\n",
    "    .agg({'transactionId': pd.Series.nunique, 'revenue': 'sum'})\n",
    ")\n",
    "ordersADaily.columns = ['date', 'ordersPerDateA', 'revenuePerDateA']\n",
    "\n",
    "ordersACummulative = ordersADaily.apply(\n",
    "    lambda x: ordersADaily[ordersADaily['date'] <= x['date']].agg(\n",
    "        {'date': 'max', 'ordersPerDateA': 'sum', 'revenuePerDateA': 'sum'}\n",
    "    ),\n",
    "    axis=1,\n",
    ").sort_values(by=['date'])\n",
    "ordersACummulative.columns = [\n",
    "    'date',\n",
    "    'ordersCummulativeA',\n",
    "    'revenueCummulativeA',\n",
    "]\n",
    "\n",
    "ordersBDaily = (\n",
    "    orders[orders['group'] == 'B'][['date', 'transactionId', 'visitorId', 'revenue']]\n",
    "    .groupby('date', as_index=False)\n",
    "    .agg({'transactionId': pd.Series.nunique, 'revenue': 'sum'})\n",
    ")\n",
    "ordersBDaily.columns = ['date', 'ordersPerDateB', 'revenuePerDateB']\n",
    "\n",
    "ordersBCummulative = ordersBDaily.apply(\n",
    "    lambda x: ordersBDaily[ordersBDaily['date'] <= x['date']].agg(\n",
    "        {'date': 'max', 'ordersPerDateB': 'sum', 'revenuePerDateB': 'sum'}\n",
    "    ),\n",
    "    axis=1,\n",
    ").sort_values(by=['date'])\n",
    "ordersBCummulative.columns = [\n",
    "    'date',\n",
    "    'ordersCummulativeB',\n",
    "    'revenueCummulativeB',\n",
    "]\n",
    "\n",
    "data = (\n",
    "    ordersADaily.merge(\n",
    "        ordersBDaily, left_on='date', right_on='date', how='left'\n",
    "    )\n",
    "    .merge(ordersACummulative, left_on='date', right_on='date', how='left')\n",
    "    .merge(ordersBCummulative, left_on='date', right_on='date', how='left')\n",
    "    .merge(visitorsADaily, left_on='date', right_on='date', how='left')\n",
    "    .merge(visitorsBDaily, left_on='date', right_on='date', how='left')\n",
    "    .merge(visitorsACummulative, left_on='date', right_on='date', how='left')\n",
    "    .merge(visitorsBCummulative, left_on='date', right_on='date', how='left')\n",
    ")\n",
    "\n",
    "print(data.head(5)) \n"
   ]
  },
  {
   "cell_type": "markdown",
   "id": "86a9a5bb",
   "metadata": {},
   "source": [
    "<div class=\"alert alert-block alert-warning\">\n",
    "\n",
    "### Комментарий от ревьюера v_1\n",
    "Рекомендация\n",
    "\n",
    "По-моему этот код избыточный, ты ведь не используешь эти данные в дальнейшей работе) \n",
    "    \n",
    "А количество посещений сайта для теста, можно рассчитать проще из таблицы visitors\n",
    "</div>"
   ]
  },
  {
   "cell_type": "code",
   "execution_count": 25,
   "id": "c61bce7c",
   "metadata": {},
   "outputs": [],
   "source": [
    "# Создадим переменные ordersByUsersA и ordersByUsersB со столбцами ['userId', 'orders'].\n",
    "# В них для пользователей, которые заказывали хотя бы 1 раз, укажем число совершённых заказов.\n",
    "ordersByUsersA = (\n",
    "    orders[orders['group'] == 'A']\n",
    "    .groupby('visitorId', as_index=False)\n",
    "    .agg({'transactionId': pd.Series.nunique})\n",
    ")\n",
    "ordersByUsersA.columns = ['userId', 'orders']\n",
    "\n",
    "ordersByUsersB = (\n",
    "    orders[orders['group'] == 'B']\n",
    "    .groupby('visitorId', as_index=False)\n",
    "    .agg({'transactionId': pd.Series.nunique})\n",
    ")\n",
    "ordersByUsersB.columns = ['userId', 'orders']"
   ]
  },
  {
   "cell_type": "code",
   "execution_count": 26,
   "id": "a175878d",
   "metadata": {},
   "outputs": [],
   "source": [
    "# Объявим переменные sampleA и sampleB, в которых пользователям из разных групп будет соответствовать количество заказов. \n",
    "# Тем, кто ничего не заказал, будут соответствовать нули. \n",
    "\n",
    "pd.Series(0, index=np.arange(data['visitorsPerDateA'].sum() - len(ordersByUsersA['orders'])), name='orders')\n",
    "\n",
    "sampleA = pd.concat([ordersByUsersA['orders'],pd.Series(0, index=np.arange(data['visitorsPerDateA'].sum() - len(ordersByUsersA['orders'])), name='orders')],axis=0)\n",
    "\n",
    "sampleB = pd.concat([ordersByUsersB['orders'],pd.Series(0, index=np.arange(data['visitorsPerDateB'].sum() - len(ordersByUsersB['orders'])), name='orders')],axis=0)\n",
    " "
   ]
  },
  {
   "cell_type": "code",
   "execution_count": 27,
   "id": "9d6d765d",
   "metadata": {},
   "outputs": [
    {
     "name": "stdout",
     "output_type": "stream",
     "text": [
      "p-value = 0.011\n",
      "Прирост количеста заказов в группе В = 0.160\n"
     ]
    }
   ],
   "source": [
    "# Выведем относительный прирост среднего числа заказов группы B\n",
    "ordersByUsersA = (\n",
    "    orders[orders['group'] == 'A']\n",
    "    .groupby('visitorId', as_index=False)\n",
    "    .agg({'transactionId': pd.Series.nunique})\n",
    ")\n",
    "ordersByUsersA.columns = ['visitorId', 'orders']\n",
    "\n",
    "ordersByUsersB = (\n",
    "    orders[orders['group'] == 'B']\n",
    "    .groupby('visitorId', as_index=False)\n",
    "    .agg({'transactionId': pd.Series.nunique})\n",
    ")\n",
    "ordersByUsersB.columns = ['visitorId', 'orders']\n",
    "\n",
    "sampleA = pd.concat(\n",
    "    [\n",
    "        ordersByUsersA['orders'],\n",
    "        pd.Series(\n",
    "            0,\n",
    "            index=np.arange(\n",
    "                data['visitorsPerDateA'].sum() - len(ordersByUsersA['orders'])\n",
    "            ),\n",
    "            name='orders',\n",
    "        ),\n",
    "    ],\n",
    "    axis=0,\n",
    ")\n",
    "\n",
    "sampleB = pd.concat(\n",
    "    [\n",
    "        ordersByUsersB['orders'],\n",
    "        pd.Series(\n",
    "            0,\n",
    "            index=np.arange(\n",
    "                data['visitorsPerDateB'].sum() - len(ordersByUsersB['orders'])\n",
    "            ),\n",
    "            name='orders',\n",
    "        ),\n",
    "    ],\n",
    "    axis=0,\n",
    ")\n",
    "\n",
    "print('p-value =',\"{0:.3f}\".format(stats.mannwhitneyu(sampleA, sampleB)[1]))\n",
    "\n",
    "print('Прирост количеста заказов в группе В =',\"{0:.3f}\".format(sampleB.mean() / sampleA.mean() - 1))\n"
   ]
  },
  {
   "cell_type": "markdown",
   "id": "ae116ff1",
   "metadata": {},
   "source": [
    " p-value = 0.011 меньше 0.05. Значит, нулевую гипотезу о том, что статистически значимых различий в среднем числе заказов между группами нет, отвергаем. Относительный проигрыш группы A равен 16 % и это различие статистически значимо.\n",
    " Теперь посчитаем статистическую значимость различий в среднем чеке заказа между группами по «сырым» данным."
   ]
  },
  {
   "cell_type": "markdown",
   "id": "e58d16e6",
   "metadata": {},
   "source": [
    "<div class=\"alert alert-block alert-warning\">\n",
    "\n",
    "### Комментарий от ревьюера v_1\n",
    "Рекомендация\n",
    "\n",
    "А в чем противоречивость? Группа В опережает на 16% и это различие статистически значимо\n",
    "</div>"
   ]
  },
  {
   "cell_type": "markdown",
   "id": "4391bb82",
   "metadata": {},
   "source": [
    "<div class=\"alert alert-block alert-info\">\n",
    "\n",
    "### Комментарий студента:\n",
    "Поправил\n",
    "\n",
    "</div>"
   ]
  },
  {
   "cell_type": "markdown",
   "id": "8db61cdf",
   "metadata": {},
   "source": [
    "<div class=\"alert alert-block alert-danger\">\n",
    "    \n",
    "\n",
    "### Комментарий от ревьюера v_1\n",
    "Критично\n",
    "\n",
    "Перед каждым из тестов следует сформулировать нулевую и альтернативную гипотезы\n",
    "</div>"
   ]
  },
  {
   "cell_type": "markdown",
   "id": "7741f9de",
   "metadata": {},
   "source": [
    "<div class=\"alert alert-block alert-success\">\n",
    "\n",
    "    \n",
    "### Комментарий от ревьюера v_2\n",
    "\n",
    "👍🏻\n",
    "    \n",
    "</div>"
   ]
  },
  {
   "cell_type": "markdown",
   "id": "6cda220f",
   "metadata": {},
   "source": [
    "Сформулируем гипотезы: \n",
    "    Нулевая- в среднем чеке группы А и группы В есть различия.\n",
    "    Альтернативная - в среднем чеке различий нет."
   ]
  },
  {
   "cell_type": "code",
   "execution_count": 28,
   "id": "5e3ff5fd",
   "metadata": {},
   "outputs": [
    {
     "name": "stdout",
     "output_type": "stream",
     "text": [
      "p-value = 0.829\n",
      "дельта среднего чека группы В =0.287\n"
     ]
    }
   ],
   "source": [
    "print('p-value =','{0:.3f}'.format(stats.mannwhitneyu(orders[orders['group']=='A']['revenue'], orders[orders['group']=='B']['revenue'])[1]))\n",
    "print('дельта среднего чека группы В =''{0:.3f}'.format(orders[orders['group']=='B']['revenue'].mean()/orders[orders['group']=='A']['revenue'].mean()-1))"
   ]
  },
  {
   "cell_type": "markdown",
   "id": "93d3ab84",
   "metadata": {},
   "source": [
    "P-value= 0.829 значительно больше 0.05. Значит, причин отвергать нулевую гипотезу и считать, что в среднем чеке есть различия, нет. Впрочем, средний чек группы B значительно выше среднего чека группы A (на 28.7 %).\n",
    "Результат противоречив, скорее всего дело в выбросах.\n",
    "\n",
    "Очистим данные от выбросов и проанализируем стат значимость различий в среднем количестве заказов на посетителя между группами на \"очищенных\" данных.\n",
    "\n",
    "Примем за аномальных пользователей тех, кто совершил от 3 заказов или совершил заказ дороже 26 785 рублей. Так мы уберём 5% пользователей с наибольшим числом заказов и от 1% до 5% пользователей с дорогими заказами. Сделаем срезы пользователей с числом заказов больше 3 — usersWithManyOrders и пользователей, совершивших заказы дороже 26 785 рублей — usersWithExpensiveOrders."
   ]
  },
  {
   "cell_type": "markdown",
   "id": "61ca5882",
   "metadata": {},
   "source": [
    "<div class=\"alert alert-block alert-success\">\n",
    "        \n",
    "### Комментарий от ревьюера v_1\n",
    "    \n",
    "А вот здесь уже противоречивость есть, все верно. Статистически значимых различий нет, но группа В опережает на 28.7%. Это влияние выброса на метрику\n",
    "\n",
    "</div>"
   ]
  },
  {
   "cell_type": "code",
   "execution_count": 36,
   "id": "650bcbaa",
   "metadata": {},
   "outputs": [
    {
     "name": "stdout",
     "output_type": "stream",
     "text": [
      "568     113298937\n",
      "1099    148427295\n",
      "928     204675465\n",
      "684     358944393\n",
      "648     382846391\n",
      "Name: visitorId, dtype: int64\n",
      "51\n"
     ]
    }
   ],
   "source": [
    "# Узнаем, сколько всего аномальных пользователей\n",
    "usersWithManyOrders = pd.concat(\n",
    "    [\n",
    "        ordersByUsersA[ordersByUsersA['orders'] > 3]['visitorId'],\n",
    "        ordersByUsersB[ordersByUsersB['orders'] > 3]['visitorId'],\n",
    "    ],\n",
    "    axis=0,\n",
    ")\n",
    "usersWithExpensiveOrders = orders[orders['revenue'] > np.percentile(orders['revenue'], 95)]['visitorId']\n",
    "abnormalUsers = (\n",
    "    pd.concat([usersWithManyOrders, usersWithExpensiveOrders], axis=0)\n",
    "    .drop_duplicates()\n",
    "    .sort_values()\n",
    ")\n",
    "print(abnormalUsers.head(5))\n",
    "print(abnormalUsers.shape[0])"
   ]
  },
  {
   "cell_type": "markdown",
   "id": "bb762a91",
   "metadata": {},
   "source": [
    "Всего 51 аномальных пользователей.\n",
    "Узнаем, как их действия повлияли на результаты теста. Посчитаем статистическую значимость различий в среднем количестве заказов между группами теста по очищенным данным. Сначала подготовим выборки количества заказов по пользователям по группам теста:"
   ]
  },
  {
   "cell_type": "markdown",
   "id": "3bb1e91e",
   "metadata": {},
   "source": [
    "<div class=\"alert alert-block alert-warning\">\n",
    "\n",
    "### Комментарий от ревьюера v_1\n",
    "Рекомендация\n",
    "\n",
    "Аномальные пользователи найдены верно, но никогда не следует вводить руками значения, которые можно получить в результате кода. По двум причинам:\n",
    "    \n",
    "- когда-нибудь обязательно ошибешься, по-другому не бывает\n",
    "    \n",
    "- скрипт перестанет корректно работать на других входных данных\n",
    "    \n",
    "</div>"
   ]
  },
  {
   "cell_type": "markdown",
   "id": "5e3ab03d",
   "metadata": {},
   "source": [
    "<div class=\"alert alert-block alert-info\">\n",
    "\n",
    "### Комментарий студента:\n",
    "Поправил в части аномально высокой выручки. Задал вместо числа рассчет 95 перцентиля. В части количества заказов оставил количественное значение 3. Так как выбросов тут нет и отсекать нечего. Если оставить 99 перцентиль, то пользователи отсекаются и аномальных становится не 51, а 58. Как тут лучше поступить?\n",
    "\n",
    "</div>"
   ]
  },
  {
   "cell_type": "markdown",
   "id": "13e9519c",
   "metadata": {},
   "source": [
    "<div class=\"alert alert-block alert-success\">\n",
    "\n",
    "    \n",
    "### Комментарий от ревьюера v_2\n",
    "\n",
    "Просто не чистить по количеству заказов:)\n",
    "    \n",
    "В трех заказах за месяц действительно нет ничего необычного\n",
    "    \n",
    "</div>"
   ]
  },
  {
   "cell_type": "code",
   "execution_count": 30,
   "id": "1a4830fd",
   "metadata": {},
   "outputs": [],
   "source": [
    "sampleAFiltered = pd.concat(\n",
    "    [\n",
    "        ordersByUsersA[\n",
    "            np.logical_not(ordersByUsersA['visitorId'].isin(abnormalUsers))\n",
    "        ]['orders'],\n",
    "        pd.Series(\n",
    "            0,\n",
    "            index=np.arange(\n",
    "                data['visitorsPerDateA'].sum() - len(ordersByUsersA['orders'])\n",
    "            ),\n",
    "            name='orders',\n",
    "        ),\n",
    "    ],\n",
    "    axis=0,\n",
    ")\n",
    "\n",
    "sampleBFiltered = pd.concat(\n",
    "    [\n",
    "        ordersByUsersB[\n",
    "            np.logical_not(ordersByUsersB['visitorId'].isin(abnormalUsers))\n",
    "        ]['orders'],\n",
    "        pd.Series(\n",
    "            0,\n",
    "            index=np.arange(\n",
    "                data['visitorsPerDateB'].sum() - len(ordersByUsersB['orders'])\n",
    "            ),\n",
    "            name='orders',\n",
    "        ),\n",
    "    ],\n",
    "    axis=0,\n",
    ")"
   ]
  },
  {
   "cell_type": "code",
   "execution_count": 31,
   "id": "0407ce83",
   "metadata": {},
   "outputs": [
    {
     "name": "stdout",
     "output_type": "stream",
     "text": [
      "p-value = 0.017\n",
      "прирост числа заказов в группе В = 0.156\n"
     ]
    }
   ],
   "source": [
    "# Применим статистический критерий Манна-Уитни к полученным выборкам:\n",
    "\n",
    "print('p-value =','{0:.3f}'.format(stats.mannwhitneyu(sampleAFiltered, sampleBFiltered)[1]))\n",
    "print('прирост числа заказов в группе В =','{0:.3f}'.format(sampleBFiltered.mean()/sampleAFiltered.mean()-1)) "
   ]
  },
  {
   "cell_type": "markdown",
   "id": "8c36b4db",
   "metadata": {},
   "source": [
    "p-value = 0.017 меньше 0.05. Относительно P-value на \"сырых\" данных, p-value на очищенных данных еще немного уменьшился (до 0.017 с 0.011) Значит, нулевую гипотезу о том, что статистически значимых различий в среднем числе заказов между группами нет, отвергаем. Относительный проигрыш группы A уменьшился с 16% до 15.6%. Выбросы в подтвержении или опровержении нулевой гипотезы роли не сыграли.\n",
    "Произошло ли что-нибудь с результатами по среднему чеку?"
   ]
  },
  {
   "cell_type": "code",
   "execution_count": 32,
   "id": "51fcdc1a",
   "metadata": {},
   "outputs": [
    {
     "name": "stdout",
     "output_type": "stream",
     "text": [
      "p-value= 0.741\n",
      "прирост среднего чека в группе В= -0.053\n"
     ]
    }
   ],
   "source": [
    "print('p-value=',\n",
    "    '{0:.3f}'.format(\n",
    "        stats.mannwhitneyu(\n",
    "            orders[\n",
    "                np.logical_and(\n",
    "                    orders['group'] == 'A',\n",
    "                    np.logical_not(orders['visitorId'].isin(abnormalUsers)),\n",
    "                )\n",
    "            ]['revenue'],\n",
    "            orders[\n",
    "                np.logical_and(\n",
    "                    orders['group'] == 'B',\n",
    "                    np.logical_not(orders['visitorId'].isin(abnormalUsers)),\n",
    "                )\n",
    "            ]['revenue'],\n",
    "        )[1]\n",
    "    )\n",
    ")\n",
    "\n",
    "print('прирост среднего чека в группе В=',\n",
    "    \"{0:.3f}\".format(\n",
    "        orders[\n",
    "            np.logical_and(\n",
    "                orders['group'] == 'B',\n",
    "                np.logical_not(orders['visitorId'].isin(abnormalUsers)),\n",
    "            )\n",
    "        ]['revenue'].mean()\n",
    "        / orders[\n",
    "            np.logical_and(\n",
    "                orders['group'] == 'A',\n",
    "                np.logical_not(orders['visitorId'].isin(abnormalUsers)),\n",
    "            )\n",
    "        ]['revenue'].mean()\n",
    "        - 1\n",
    "    )\n",
    ")"
   ]
  },
  {
   "cell_type": "markdown",
   "id": "d6b17f06",
   "metadata": {},
   "source": [
    "P-value немного вырос = 0.741 против  0.829 на \"сырых\" данных,и все еще значительно больше 0.05. Значит, причин отвергать нулевую гипотезу и считать, что в среднем чеке есть различия, нет. Средний чек группы B при анализе \"очищенных\" данных показал наоборот отрицательный рост (-0.053) против 28.7% \"сырых\" данных. Разница статистически не значима, различий в среднем чеке нет. Очевидно, что сильное влияние на искажение данных оказывали выбросы."
   ]
  },
  {
   "cell_type": "markdown",
   "id": "b9a64e87",
   "metadata": {},
   "source": [
    "<div class=\"alert alert-block alert-danger\">\n",
    "    \n",
    "\n",
    "### Комментарий от ревьюера v_1\n",
    "Критично\n",
    "\n",
    "Результаты в выводах не совпадают с результатами, полученными при вычислениях\n",
    "</div>"
   ]
  },
  {
   "cell_type": "markdown",
   "id": "7bcbb0ae",
   "metadata": {},
   "source": [
    "<div class=\"alert alert-block alert-info\">\n",
    "\n",
    "### Комментарий студента:\n",
    "Поправил\n",
    "\n",
    "</div>"
   ]
  },
  {
   "cell_type": "markdown",
   "id": "13586836",
   "metadata": {},
   "source": [
    "<div class=\"alert alert-block alert-success\">\n",
    "\n",
    "    \n",
    "### Комментарий от ревьюера v_2\n",
    "\n",
    "👍🏻\n",
    "    \n",
    "</div>"
   ]
  },
  {
   "cell_type": "markdown",
   "id": "bf2059f4",
   "metadata": {},
   "source": [
    "Выводы:\n",
    "- Разница в среднем количестве заказов по группам составляет 16%. Именно на столько конверсия группы В по сырым данным лучше конверсии группы А. Разница статистически значима. На очищенных данных разница составила чуть меньше - 15.6% в пользу группы А, но все еще статистически значима, так как p-value равен 0,017, что значительно ниже установленного уровня статистической значимости в 0,05. Гипотезу о равенстве конверсий отвергли в обоих тестах.\n",
    "- Разница в среднем чеке тестируемых групп на сырых данных составила 28.7%, но не подтвердилась на очищенных данных. Всему виной оказался вырос в стоимости заказов. Очищенные данные показали, что статистической значимости в разнице средних чеков групп нет.\n",
    "- График различия количества заказов между группами сообщает, что результаты группы B лучше группы A: имеют тенденцию к росту, либо зафиксировались около среднего значения в 15-17%.\n",
    "- График различия среднего чека колеблется: он-то и позволил вам найти аномалии. Сделать из этого графика определённые выводы нельзя.\n",
    "\n",
    "Исходя из вышесказанного можно принять следующее решение:\n",
    "АВ-тест остановить, зафиксировать успешный результат и перейти к проверке следующей гипотезы."
   ]
  },
  {
   "cell_type": "markdown",
   "id": "14d6cd56",
   "metadata": {},
   "source": [
    "<div class=\"alert alert-block alert-danger\">\n",
    "    \n",
    "\n",
    "### Комментарий от ревьюера v_1\n",
    "Критично\n",
    "\n",
    "    Нет статистически значимого различия по среднему количеству заказов между группами ни по «сырым», ни по данным после фильтрации аномалий\n",
    "    \n",
    "Как же нет, если в обоих теста отвергли нулевую гипотезу?\n",
    "</div>"
   ]
  },
  {
   "cell_type": "markdown",
   "id": "05ce90f0",
   "metadata": {},
   "source": [
    "<div class=\"alert alert-block alert-info\">\n",
    "\n",
    "### Комментарий студента:\n",
    "Выводы скорректировал.\n",
    "\n",
    "</div>"
   ]
  },
  {
   "cell_type": "markdown",
   "id": "c023d187",
   "metadata": {},
   "source": [
    "<div class=\"alert alert-block alert-success\">\n",
    "        \n",
    "### Комментарий от ревьюера v_2\n",
    "    \n",
    "Все верно, с ростом числа заказов  будет расти и выручка (при том же среднем чеке)\n",
    "\n",
    "</div>"
   ]
  },
  {
   "cell_type": "code",
   "execution_count": null,
   "id": "a8b455d9",
   "metadata": {},
   "outputs": [],
   "source": []
  }
 ],
 "metadata": {
  "ExecuteTimeLog": [
   {
    "duration": 1375,
    "start_time": "2022-12-22T12:43:08.173Z"
   },
   {
    "duration": 144,
    "start_time": "2022-12-22T12:43:09.549Z"
   },
   {
    "duration": 0,
    "start_time": "2022-12-22T12:43:09.695Z"
   },
   {
    "duration": 0,
    "start_time": "2022-12-22T12:43:09.696Z"
   },
   {
    "duration": 0,
    "start_time": "2022-12-22T12:43:09.697Z"
   },
   {
    "duration": 0,
    "start_time": "2022-12-22T12:43:09.698Z"
   },
   {
    "duration": 0,
    "start_time": "2022-12-22T12:43:09.699Z"
   },
   {
    "duration": 0,
    "start_time": "2022-12-22T12:43:09.700Z"
   },
   {
    "duration": 0,
    "start_time": "2022-12-22T12:43:09.701Z"
   },
   {
    "duration": 0,
    "start_time": "2022-12-22T12:43:09.702Z"
   },
   {
    "duration": 0,
    "start_time": "2022-12-22T12:43:09.703Z"
   },
   {
    "duration": 0,
    "start_time": "2022-12-22T12:43:09.704Z"
   },
   {
    "duration": 0,
    "start_time": "2022-12-22T12:43:09.705Z"
   },
   {
    "duration": 0,
    "start_time": "2022-12-22T12:43:09.706Z"
   },
   {
    "duration": 0,
    "start_time": "2022-12-22T12:43:09.707Z"
   },
   {
    "duration": 0,
    "start_time": "2022-12-22T12:43:09.708Z"
   },
   {
    "duration": 0,
    "start_time": "2022-12-22T12:43:09.709Z"
   },
   {
    "duration": 0,
    "start_time": "2022-12-22T12:43:09.710Z"
   },
   {
    "duration": 0,
    "start_time": "2022-12-22T12:43:09.711Z"
   },
   {
    "duration": 0,
    "start_time": "2022-12-22T12:43:09.712Z"
   },
   {
    "duration": 0,
    "start_time": "2022-12-22T12:43:09.713Z"
   },
   {
    "duration": 0,
    "start_time": "2022-12-22T12:43:09.713Z"
   },
   {
    "duration": 0,
    "start_time": "2022-12-22T12:43:09.714Z"
   },
   {
    "duration": 0,
    "start_time": "2022-12-22T12:43:09.715Z"
   },
   {
    "duration": 0,
    "start_time": "2022-12-22T12:43:09.716Z"
   },
   {
    "duration": 0,
    "start_time": "2022-12-22T12:43:09.717Z"
   },
   {
    "duration": 0,
    "start_time": "2022-12-22T12:43:09.718Z"
   },
   {
    "duration": 0,
    "start_time": "2022-12-22T12:43:09.719Z"
   },
   {
    "duration": 0,
    "start_time": "2022-12-22T12:43:09.720Z"
   },
   {
    "duration": 106,
    "start_time": "2022-12-22T12:50:33.913Z"
   },
   {
    "duration": 62,
    "start_time": "2022-12-22T12:51:03.379Z"
   },
   {
    "duration": 8,
    "start_time": "2022-12-22T12:51:03.443Z"
   },
   {
    "duration": 7,
    "start_time": "2022-12-22T12:51:03.452Z"
   },
   {
    "duration": 202,
    "start_time": "2022-12-22T12:51:03.460Z"
   },
   {
    "duration": 14,
    "start_time": "2022-12-22T12:51:03.664Z"
   },
   {
    "duration": 30,
    "start_time": "2022-12-22T12:51:03.679Z"
   },
   {
    "duration": 15,
    "start_time": "2022-12-22T12:51:03.711Z"
   },
   {
    "duration": 4,
    "start_time": "2022-12-22T12:51:03.728Z"
   },
   {
    "duration": 14,
    "start_time": "2022-12-22T12:51:03.734Z"
   },
   {
    "duration": 319,
    "start_time": "2022-12-22T12:51:03.750Z"
   },
   {
    "duration": 281,
    "start_time": "2022-12-22T12:51:04.076Z"
   },
   {
    "duration": 188,
    "start_time": "2022-12-22T12:51:04.359Z"
   },
   {
    "duration": 365,
    "start_time": "2022-12-22T12:51:04.549Z"
   },
   {
    "duration": 184,
    "start_time": "2022-12-22T12:51:04.917Z"
   },
   {
    "duration": 313,
    "start_time": "2022-12-22T12:51:05.102Z"
   },
   {
    "duration": 163,
    "start_time": "2022-12-22T12:51:05.417Z"
   },
   {
    "duration": 4,
    "start_time": "2022-12-22T12:51:05.582Z"
   },
   {
    "duration": 181,
    "start_time": "2022-12-22T12:51:05.588Z"
   },
   {
    "duration": 7,
    "start_time": "2022-12-22T12:51:05.771Z"
   },
   {
    "duration": 208,
    "start_time": "2022-12-22T12:51:05.779Z"
   },
   {
    "duration": 124,
    "start_time": "2022-12-22T12:51:05.988Z"
   },
   {
    "duration": 6,
    "start_time": "2022-12-22T12:51:06.113Z"
   },
   {
    "duration": 156,
    "start_time": "2022-12-22T12:51:06.121Z"
   },
   {
    "duration": 10,
    "start_time": "2022-12-22T12:51:06.279Z"
   },
   {
    "duration": 9,
    "start_time": "2022-12-22T12:51:06.291Z"
   },
   {
    "duration": 10,
    "start_time": "2022-12-22T12:51:06.301Z"
   },
   {
    "duration": 24,
    "start_time": "2022-12-22T12:51:06.313Z"
   },
   {
    "duration": 42,
    "start_time": "2022-12-22T12:51:06.338Z"
   },
   {
    "duration": 49,
    "start_time": "2022-12-23T18:54:25.649Z"
   },
   {
    "duration": 1364,
    "start_time": "2022-12-23T18:54:43.802Z"
   },
   {
    "duration": 101,
    "start_time": "2022-12-23T18:54:45.168Z"
   },
   {
    "duration": 10,
    "start_time": "2022-12-23T18:54:45.270Z"
   },
   {
    "duration": 8,
    "start_time": "2022-12-23T18:54:45.281Z"
   },
   {
    "duration": 167,
    "start_time": "2022-12-23T18:54:45.291Z"
   },
   {
    "duration": 14,
    "start_time": "2022-12-23T18:54:45.460Z"
   },
   {
    "duration": 21,
    "start_time": "2022-12-23T18:54:45.475Z"
   },
   {
    "duration": 14,
    "start_time": "2022-12-23T18:54:45.498Z"
   },
   {
    "duration": 12,
    "start_time": "2022-12-23T18:54:45.513Z"
   },
   {
    "duration": 17,
    "start_time": "2022-12-23T18:54:45.527Z"
   },
   {
    "duration": 351,
    "start_time": "2022-12-23T18:54:45.545Z"
   },
   {
    "duration": 306,
    "start_time": "2022-12-23T18:54:45.897Z"
   },
   {
    "duration": 250,
    "start_time": "2022-12-23T18:54:46.206Z"
   },
   {
    "duration": 326,
    "start_time": "2022-12-23T18:54:46.460Z"
   },
   {
    "duration": 194,
    "start_time": "2022-12-23T18:54:46.787Z"
   },
   {
    "duration": 354,
    "start_time": "2022-12-23T18:54:46.983Z"
   },
   {
    "duration": 160,
    "start_time": "2022-12-23T18:54:47.339Z"
   },
   {
    "duration": 15,
    "start_time": "2022-12-23T18:54:47.501Z"
   },
   {
    "duration": 177,
    "start_time": "2022-12-23T18:54:47.518Z"
   },
   {
    "duration": 4,
    "start_time": "2022-12-23T18:54:47.697Z"
   },
   {
    "duration": 260,
    "start_time": "2022-12-23T18:54:47.712Z"
   },
   {
    "duration": 149,
    "start_time": "2022-12-23T18:54:47.974Z"
   },
   {
    "duration": 8,
    "start_time": "2022-12-23T18:54:48.126Z"
   },
   {
    "duration": 206,
    "start_time": "2022-12-23T18:54:48.136Z"
   },
   {
    "duration": 11,
    "start_time": "2022-12-23T18:54:48.343Z"
   },
   {
    "duration": 10,
    "start_time": "2022-12-23T18:54:48.355Z"
   },
   {
    "duration": 13,
    "start_time": "2022-12-23T18:54:48.367Z"
   },
   {
    "duration": 56,
    "start_time": "2022-12-23T18:54:48.382Z"
   },
   {
    "duration": 16,
    "start_time": "2022-12-23T18:54:48.439Z"
   },
   {
    "duration": 330,
    "start_time": "2022-12-23T18:56:52.237Z"
   },
   {
    "duration": 280,
    "start_time": "2022-12-23T19:05:21.342Z"
   },
   {
    "duration": 155,
    "start_time": "2022-12-23T19:05:48.408Z"
   },
   {
    "duration": 133,
    "start_time": "2022-12-23T19:07:10.502Z"
   },
   {
    "duration": 154,
    "start_time": "2022-12-23T19:08:00.474Z"
   },
   {
    "duration": 147,
    "start_time": "2022-12-23T19:10:20.338Z"
   },
   {
    "duration": 141,
    "start_time": "2022-12-23T19:13:57.340Z"
   },
   {
    "duration": 139,
    "start_time": "2022-12-23T19:15:20.936Z"
   },
   {
    "duration": 150,
    "start_time": "2022-12-23T19:17:32.266Z"
   },
   {
    "duration": 6,
    "start_time": "2022-12-23T19:18:00.022Z"
   },
   {
    "duration": 93,
    "start_time": "2022-12-23T19:18:00.030Z"
   },
   {
    "duration": 13,
    "start_time": "2022-12-23T19:18:00.125Z"
   },
   {
    "duration": 12,
    "start_time": "2022-12-23T19:18:00.140Z"
   },
   {
    "duration": 103,
    "start_time": "2022-12-23T19:18:00.154Z"
   },
   {
    "duration": 15,
    "start_time": "2022-12-23T19:18:00.259Z"
   },
   {
    "duration": 24,
    "start_time": "2022-12-23T19:18:00.276Z"
   },
   {
    "duration": 15,
    "start_time": "2022-12-23T19:18:00.302Z"
   },
   {
    "duration": 12,
    "start_time": "2022-12-23T19:18:00.321Z"
   },
   {
    "duration": 13,
    "start_time": "2022-12-23T19:18:00.335Z"
   },
   {
    "duration": 355,
    "start_time": "2022-12-23T19:18:00.350Z"
   },
   {
    "duration": 233,
    "start_time": "2022-12-23T19:18:00.707Z"
   },
   {
    "duration": 208,
    "start_time": "2022-12-23T19:18:00.942Z"
   },
   {
    "duration": 264,
    "start_time": "2022-12-23T19:18:01.153Z"
   },
   {
    "duration": 226,
    "start_time": "2022-12-23T19:18:01.419Z"
   },
   {
    "duration": 339,
    "start_time": "2022-12-23T19:18:01.647Z"
   },
   {
    "duration": 160,
    "start_time": "2022-12-23T19:18:01.987Z"
   },
   {
    "duration": 4,
    "start_time": "2022-12-23T19:18:02.149Z"
   },
   {
    "duration": 187,
    "start_time": "2022-12-23T19:18:02.154Z"
   },
   {
    "duration": 4,
    "start_time": "2022-12-23T19:18:02.343Z"
   },
   {
    "duration": 316,
    "start_time": "2022-12-23T19:18:02.348Z"
   },
   {
    "duration": 147,
    "start_time": "2022-12-23T19:18:02.665Z"
   },
   {
    "duration": 11,
    "start_time": "2022-12-23T19:18:02.814Z"
   },
   {
    "duration": 161,
    "start_time": "2022-12-23T19:18:02.827Z"
   },
   {
    "duration": 10,
    "start_time": "2022-12-23T19:18:02.990Z"
   },
   {
    "duration": 15,
    "start_time": "2022-12-23T19:18:03.012Z"
   },
   {
    "duration": 164,
    "start_time": "2022-12-23T19:18:03.029Z"
   },
   {
    "duration": 0,
    "start_time": "2022-12-23T19:18:03.195Z"
   },
   {
    "duration": 0,
    "start_time": "2022-12-23T19:18:03.196Z"
   },
   {
    "duration": 0,
    "start_time": "2022-12-23T19:18:03.198Z"
   },
   {
    "duration": 142,
    "start_time": "2022-12-23T19:31:15.426Z"
   },
   {
    "duration": 168,
    "start_time": "2022-12-23T19:33:11.534Z"
   },
   {
    "duration": 159,
    "start_time": "2022-12-23T19:36:22.319Z"
   },
   {
    "duration": 40,
    "start_time": "2022-12-23T19:55:33.078Z"
   },
   {
    "duration": 50,
    "start_time": "2022-12-23T19:57:50.281Z"
   },
   {
    "duration": 87,
    "start_time": "2022-12-24T08:19:20.017Z"
   },
   {
    "duration": 41,
    "start_time": "2022-12-24T08:26:41.224Z"
   },
   {
    "duration": 7,
    "start_time": "2022-12-24T08:29:24.738Z"
   },
   {
    "duration": 1260,
    "start_time": "2022-12-24T08:29:45.624Z"
   },
   {
    "duration": 122,
    "start_time": "2022-12-24T08:29:46.886Z"
   },
   {
    "duration": 9,
    "start_time": "2022-12-24T08:29:47.010Z"
   },
   {
    "duration": 15,
    "start_time": "2022-12-24T08:29:47.021Z"
   },
   {
    "duration": 201,
    "start_time": "2022-12-24T08:29:47.038Z"
   },
   {
    "duration": 13,
    "start_time": "2022-12-24T08:29:47.241Z"
   },
   {
    "duration": 67,
    "start_time": "2022-12-24T08:29:47.255Z"
   },
   {
    "duration": 0,
    "start_time": "2022-12-24T08:29:47.324Z"
   },
   {
    "duration": 0,
    "start_time": "2022-12-24T08:29:47.325Z"
   },
   {
    "duration": 0,
    "start_time": "2022-12-24T08:29:47.326Z"
   },
   {
    "duration": 0,
    "start_time": "2022-12-24T08:29:47.327Z"
   },
   {
    "duration": 0,
    "start_time": "2022-12-24T08:29:47.328Z"
   },
   {
    "duration": 0,
    "start_time": "2022-12-24T08:29:47.329Z"
   },
   {
    "duration": 0,
    "start_time": "2022-12-24T08:29:47.330Z"
   },
   {
    "duration": 0,
    "start_time": "2022-12-24T08:29:47.331Z"
   },
   {
    "duration": 0,
    "start_time": "2022-12-24T08:29:47.332Z"
   },
   {
    "duration": 0,
    "start_time": "2022-12-24T08:29:47.332Z"
   },
   {
    "duration": 0,
    "start_time": "2022-12-24T08:29:47.333Z"
   },
   {
    "duration": 0,
    "start_time": "2022-12-24T08:29:47.334Z"
   },
   {
    "duration": 0,
    "start_time": "2022-12-24T08:29:47.335Z"
   },
   {
    "duration": 0,
    "start_time": "2022-12-24T08:29:47.336Z"
   },
   {
    "duration": 0,
    "start_time": "2022-12-24T08:29:47.337Z"
   },
   {
    "duration": 0,
    "start_time": "2022-12-24T08:29:47.338Z"
   },
   {
    "duration": 0,
    "start_time": "2022-12-24T08:29:47.339Z"
   },
   {
    "duration": 0,
    "start_time": "2022-12-24T08:29:47.340Z"
   },
   {
    "duration": 0,
    "start_time": "2022-12-24T08:29:47.341Z"
   },
   {
    "duration": 0,
    "start_time": "2022-12-24T08:29:47.342Z"
   },
   {
    "duration": 0,
    "start_time": "2022-12-24T08:29:47.343Z"
   },
   {
    "duration": 0,
    "start_time": "2022-12-24T08:29:47.344Z"
   },
   {
    "duration": 0,
    "start_time": "2022-12-24T08:29:47.345Z"
   },
   {
    "duration": 19,
    "start_time": "2022-12-24T08:37:26.592Z"
   },
   {
    "duration": 21,
    "start_time": "2022-12-24T08:41:00.258Z"
   },
   {
    "duration": 19,
    "start_time": "2022-12-24T08:42:06.639Z"
   },
   {
    "duration": 20,
    "start_time": "2022-12-24T08:42:58.437Z"
   },
   {
    "duration": 18,
    "start_time": "2022-12-24T08:43:26.866Z"
   },
   {
    "duration": 19,
    "start_time": "2022-12-24T08:44:30.958Z"
   },
   {
    "duration": 19,
    "start_time": "2022-12-24T08:45:58.354Z"
   },
   {
    "duration": 17,
    "start_time": "2022-12-24T08:46:07.337Z"
   },
   {
    "duration": 9,
    "start_time": "2022-12-24T08:56:16.845Z"
   },
   {
    "duration": 4,
    "start_time": "2022-12-24T08:57:10.366Z"
   },
   {
    "duration": 97,
    "start_time": "2022-12-24T08:57:10.372Z"
   },
   {
    "duration": 8,
    "start_time": "2022-12-24T08:57:10.470Z"
   },
   {
    "duration": 19,
    "start_time": "2022-12-24T08:57:10.480Z"
   },
   {
    "duration": 105,
    "start_time": "2022-12-24T08:57:10.500Z"
   },
   {
    "duration": 14,
    "start_time": "2022-12-24T08:57:10.607Z"
   },
   {
    "duration": 19,
    "start_time": "2022-12-24T08:57:10.622Z"
   },
   {
    "duration": 12,
    "start_time": "2022-12-24T08:57:10.643Z"
   },
   {
    "duration": 5,
    "start_time": "2022-12-24T08:57:10.657Z"
   },
   {
    "duration": 13,
    "start_time": "2022-12-24T08:57:10.665Z"
   },
   {
    "duration": 329,
    "start_time": "2022-12-24T08:57:10.679Z"
   },
   {
    "duration": 259,
    "start_time": "2022-12-24T08:57:11.012Z"
   },
   {
    "duration": 176,
    "start_time": "2022-12-24T08:57:11.272Z"
   },
   {
    "duration": 269,
    "start_time": "2022-12-24T08:57:11.450Z"
   },
   {
    "duration": 195,
    "start_time": "2022-12-24T08:57:11.721Z"
   },
   {
    "duration": 0,
    "start_time": "2022-12-24T08:57:11.917Z"
   },
   {
    "duration": 0,
    "start_time": "2022-12-24T08:57:11.918Z"
   },
   {
    "duration": 0,
    "start_time": "2022-12-24T08:57:11.920Z"
   },
   {
    "duration": 0,
    "start_time": "2022-12-24T08:57:11.921Z"
   },
   {
    "duration": 0,
    "start_time": "2022-12-24T08:57:11.922Z"
   },
   {
    "duration": 0,
    "start_time": "2022-12-24T08:57:11.922Z"
   },
   {
    "duration": 0,
    "start_time": "2022-12-24T08:57:11.924Z"
   },
   {
    "duration": 0,
    "start_time": "2022-12-24T08:57:11.925Z"
   },
   {
    "duration": 0,
    "start_time": "2022-12-24T08:57:11.926Z"
   },
   {
    "duration": 0,
    "start_time": "2022-12-24T08:57:11.927Z"
   },
   {
    "duration": 0,
    "start_time": "2022-12-24T08:57:11.928Z"
   },
   {
    "duration": 0,
    "start_time": "2022-12-24T08:57:11.929Z"
   },
   {
    "duration": 0,
    "start_time": "2022-12-24T08:57:11.930Z"
   },
   {
    "duration": 0,
    "start_time": "2022-12-24T08:57:11.931Z"
   },
   {
    "duration": 0,
    "start_time": "2022-12-24T08:57:11.932Z"
   },
   {
    "duration": 176,
    "start_time": "2022-12-24T08:59:36.545Z"
   },
   {
    "duration": 156,
    "start_time": "2022-12-24T09:00:16.421Z"
   },
   {
    "duration": 90,
    "start_time": "2022-12-24T09:00:57.343Z"
   },
   {
    "duration": 171,
    "start_time": "2022-12-24T09:01:02.254Z"
   },
   {
    "duration": 181,
    "start_time": "2022-12-24T09:02:58.378Z"
   },
   {
    "duration": 232,
    "start_time": "2022-12-24T09:03:21.029Z"
   },
   {
    "duration": 193,
    "start_time": "2022-12-24T09:03:47.109Z"
   },
   {
    "duration": 195,
    "start_time": "2022-12-24T09:06:00.425Z"
   },
   {
    "duration": 188,
    "start_time": "2022-12-24T09:06:10.305Z"
   },
   {
    "duration": 332,
    "start_time": "2022-12-24T09:12:18.983Z"
   },
   {
    "duration": 267,
    "start_time": "2022-12-24T09:12:40.960Z"
   },
   {
    "duration": 299,
    "start_time": "2022-12-24T09:12:55.689Z"
   },
   {
    "duration": 181,
    "start_time": "2022-12-24T09:15:03.822Z"
   },
   {
    "duration": 269,
    "start_time": "2022-12-24T09:16:04.430Z"
   },
   {
    "duration": 174,
    "start_time": "2022-12-24T09:16:34.204Z"
   },
   {
    "duration": 173,
    "start_time": "2022-12-24T09:17:06.766Z"
   },
   {
    "duration": 88,
    "start_time": "2022-12-24T09:17:28.902Z"
   },
   {
    "duration": 70,
    "start_time": "2022-12-24T09:17:41.771Z"
   },
   {
    "duration": 314,
    "start_time": "2022-12-24T09:17:51.099Z"
   },
   {
    "duration": 257,
    "start_time": "2022-12-24T09:18:17.428Z"
   },
   {
    "duration": 140,
    "start_time": "2022-12-24T09:20:35.850Z"
   },
   {
    "duration": 147,
    "start_time": "2022-12-24T09:20:59.928Z"
   },
   {
    "duration": 243,
    "start_time": "2022-12-24T09:21:22.814Z"
   },
   {
    "duration": 130,
    "start_time": "2022-12-24T09:22:03.999Z"
   },
   {
    "duration": 232,
    "start_time": "2022-12-24T09:22:16.365Z"
   },
   {
    "duration": 136,
    "start_time": "2022-12-24T09:22:23.495Z"
   },
   {
    "duration": 154,
    "start_time": "2022-12-24T09:22:44.525Z"
   },
   {
    "duration": 149,
    "start_time": "2022-12-24T09:22:56.075Z"
   },
   {
    "duration": 269,
    "start_time": "2022-12-24T09:23:12.614Z"
   },
   {
    "duration": 176,
    "start_time": "2022-12-24T09:23:29.682Z"
   },
   {
    "duration": 269,
    "start_time": "2022-12-24T09:24:21.454Z"
   },
   {
    "duration": 85,
    "start_time": "2022-12-24T09:27:08.866Z"
   },
   {
    "duration": 47,
    "start_time": "2022-12-24T13:49:59.722Z"
   },
   {
    "duration": 1342,
    "start_time": "2022-12-24T13:50:12.119Z"
   },
   {
    "duration": 97,
    "start_time": "2022-12-24T13:50:13.463Z"
   },
   {
    "duration": 9,
    "start_time": "2022-12-24T13:50:13.562Z"
   },
   {
    "duration": 9,
    "start_time": "2022-12-24T13:50:13.572Z"
   },
   {
    "duration": 206,
    "start_time": "2022-12-24T13:50:13.583Z"
   },
   {
    "duration": 13,
    "start_time": "2022-12-24T13:50:13.790Z"
   },
   {
    "duration": 21,
    "start_time": "2022-12-24T13:50:13.804Z"
   },
   {
    "duration": 12,
    "start_time": "2022-12-24T13:50:13.827Z"
   },
   {
    "duration": 15,
    "start_time": "2022-12-24T13:50:13.840Z"
   },
   {
    "duration": 13,
    "start_time": "2022-12-24T13:50:13.856Z"
   },
   {
    "duration": 312,
    "start_time": "2022-12-24T13:50:13.870Z"
   },
   {
    "duration": 272,
    "start_time": "2022-12-24T13:50:14.183Z"
   },
   {
    "duration": 224,
    "start_time": "2022-12-24T13:50:14.457Z"
   },
   {
    "duration": 324,
    "start_time": "2022-12-24T13:50:14.685Z"
   },
   {
    "duration": 207,
    "start_time": "2022-12-24T13:50:15.011Z"
   },
   {
    "duration": 322,
    "start_time": "2022-12-24T13:50:15.220Z"
   },
   {
    "duration": 391,
    "start_time": "2022-12-24T13:50:15.544Z"
   },
   {
    "duration": 179,
    "start_time": "2022-12-24T13:50:15.936Z"
   },
   {
    "duration": 4,
    "start_time": "2022-12-24T13:50:16.117Z"
   },
   {
    "duration": 185,
    "start_time": "2022-12-24T13:50:16.123Z"
   },
   {
    "duration": 5,
    "start_time": "2022-12-24T13:50:16.310Z"
   },
   {
    "duration": 239,
    "start_time": "2022-12-24T13:50:16.316Z"
   },
   {
    "duration": 234,
    "start_time": "2022-12-24T13:50:16.557Z"
   },
   {
    "duration": 133,
    "start_time": "2022-12-24T13:50:16.797Z"
   },
   {
    "duration": 8,
    "start_time": "2022-12-24T13:50:16.932Z"
   },
   {
    "duration": 146,
    "start_time": "2022-12-24T13:50:16.942Z"
   },
   {
    "duration": 9,
    "start_time": "2022-12-24T13:50:17.097Z"
   },
   {
    "duration": 9,
    "start_time": "2022-12-24T13:50:17.108Z"
   },
   {
    "duration": 8,
    "start_time": "2022-12-24T13:50:17.118Z"
   },
   {
    "duration": 23,
    "start_time": "2022-12-24T13:50:17.127Z"
   },
   {
    "duration": 13,
    "start_time": "2022-12-24T13:50:17.151Z"
   },
   {
    "duration": 10,
    "start_time": "2022-12-24T13:55:38.925Z"
   },
   {
    "duration": 11,
    "start_time": "2022-12-24T13:57:29.192Z"
   },
   {
    "duration": 10,
    "start_time": "2022-12-24T13:57:58.005Z"
   },
   {
    "duration": 9,
    "start_time": "2022-12-24T13:58:17.084Z"
   }
  ],
  "kernelspec": {
   "display_name": "Python 3 (ipykernel)",
   "language": "python",
   "name": "python3"
  },
  "language_info": {
   "codemirror_mode": {
    "name": "ipython",
    "version": 3
   },
   "file_extension": ".py",
   "mimetype": "text/x-python",
   "name": "python",
   "nbconvert_exporter": "python",
   "pygments_lexer": "ipython3",
   "version": "3.9.5"
  },
  "toc": {
   "base_numbering": 1,
   "nav_menu": {},
   "number_sections": false,
   "sideBar": true,
   "skip_h1_title": false,
   "title_cell": "Table of Contents",
   "title_sidebar": "Contents",
   "toc_cell": false,
   "toc_position": {
    "height": "calc(100% - 180px)",
    "left": "10px",
    "top": "150px",
    "width": "224.091px"
   },
   "toc_section_display": true,
   "toc_window_display": true
  }
 },
 "nbformat": 4,
 "nbformat_minor": 5
}
