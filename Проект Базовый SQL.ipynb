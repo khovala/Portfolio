{
 "cells": [
  {
   "cell_type": "markdown",
   "id": "7cc48443",
   "metadata": {},
   "source": [
    "# Описание проекта\n",
    "\n",
    "23 задачи на базовые запросы SQL\n"
   ]
  },
  {
   "cell_type": "markdown",
   "id": "29a9e34b",
   "metadata": {},
   "source": [
    "1.\n",
    "Посчитайте, сколько компаний закрылось."
   ]
  },
  {
   "cell_type": "markdown",
   "id": "f61b3ba5",
   "metadata": {},
   "source": [
    "SELECT COUNT (id)\n",
    "FROM company\n",
    "WHERE status = 'closed';"
   ]
  },
  {
   "cell_type": "markdown",
   "id": "5a22fff4",
   "metadata": {},
   "source": [
    "2.\n",
    "Отобразите количество привлечённых средств для новостных компаний США. Используйте данные из таблицы company. Отсортируйте таблицу по убыванию значений в поле funding_total ."
   ]
  },
  {
   "cell_type": "markdown",
   "id": "938bdd68",
   "metadata": {},
   "source": [
    "SELECT SUM(funding_total) AS ft\n",
    "FROM company\n",
    "WHERE category_code = 'news'\n",
    "AND country_code ='USA'\n",
    "GROUP BY id\n",
    "ORDER BY ft DESC;"
   ]
  },
  {
   "cell_type": "markdown",
   "id": "686c0f4e",
   "metadata": {},
   "source": [
    "3.\n",
    "Найдите общую сумму сделок по покупке одних компаний другими в долларах. Отберите сделки, которые осуществлялись только за наличные с 2011 по 2013 год включительно."
   ]
  },
  {
   "cell_type": "markdown",
   "id": "1ac6d8ae",
   "metadata": {},
   "source": [
    "SELECT SUM(price_amount)\n",
    "FROM acquisition\n",
    "WHERE EXTRACT (YEAR FROM CAST (acquired_at AS date)) IN (2011,2012,2013)\n",
    "AND term_code = 'cash';"
   ]
  },
  {
   "cell_type": "markdown",
   "id": "89592c2b",
   "metadata": {},
   "source": [
    "4.\n",
    "Отобразите имя, фамилию и названия аккаунтов людей в твиттере, у которых названия аккаунтов начинаются на 'Silver'."
   ]
  },
  {
   "cell_type": "markdown",
   "id": "e7a07852",
   "metadata": {},
   "source": [
    "SELECT first_name,\n",
    "       last_name,\n",
    "       twitter_username\n",
    "FROM people\n",
    "WHERE twitter_username LIKE 'Silver%'\n",
    "ORDER BY first_name;"
   ]
  },
  {
   "cell_type": "markdown",
   "id": "d7e082ae",
   "metadata": {},
   "source": [
    "5.\n",
    "Выведите на экран всю информацию о людях, у которых названия аккаунтов в твиттере содержат подстроку 'money', а фамилия начинается на 'K'."
   ]
  },
  {
   "cell_type": "markdown",
   "id": "013609fc",
   "metadata": {},
   "source": [
    "SELECT *\n",
    "FROM people\n",
    "WHERE twitter_username LIKE '%money%'\n",
    "AND last_name LIKE 'K%'\n",
    "ORDER BY id;"
   ]
  },
  {
   "cell_type": "markdown",
   "id": "0d6e8295",
   "metadata": {},
   "source": [
    "6.\n",
    "Для каждой страны отобразите общую сумму привлечённых инвестиций, которые получили компании, зарегистрированные в этой стране. Страну, в которой зарегистрирована компания, можно определить по коду страны. Отсортируйте данные по убыванию суммы."
   ]
  },
  {
   "cell_type": "markdown",
   "id": "b1cbc847",
   "metadata": {},
   "source": [
    "SELECT country_code, \n",
    "       SUM (funding_total) AS ft\n",
    "FROM company\n",
    "GROUP BY country_code\n",
    "ORDER BY ft DESC;"
   ]
  },
  {
   "cell_type": "markdown",
   "id": "ecacb6cd",
   "metadata": {},
   "source": [
    "7.\n",
    "Составьте таблицу, в которую войдёт дата проведения раунда, а также минимальное и максимальное значения суммы инвестиций, привлечённых в эту дату.\n",
    "Оставьте в итоговой таблице только те записи, в которых минимальное значение суммы инвестиций не равно нулю и не равно максимальному значению."
   ]
  },
  {
   "cell_type": "markdown",
   "id": "dc479be7",
   "metadata": {},
   "source": [
    "SELECT CAST(funded_at AS date),\n",
    "       MIN(raised_amount),\n",
    "       MAX(raised_amount)\n",
    "FROM funding_round\n",
    "GROUP BY CAST (funded_at AS date)\n",
    "HAVING MIN(raised_amount) <> MAX(raised_amount)\n",
    "AND MIN(raised_amount) <> 0\n",
    "ORDER BY CAST (funded_at AS date);"
   ]
  },
  {
   "cell_type": "markdown",
   "id": "ac80c700",
   "metadata": {},
   "source": [
    "8.\n",
    "Создайте поле с категориями:\n",
    "Для фондов, которые инвестируют в 100 и более компаний, назначьте категорию high_activity.\n",
    "Для фондов, которые инвестируют в 20 и более компаний до 100, назначьте категорию middle_activity.\n",
    "Если количество инвестируемых компаний фонда не достигает 20, назначьте категорию low_activity.\n",
    "Отобразите все поля таблицы fund и новое поле с категориями.\n",
    "\n"
   ]
  },
  {
   "cell_type": "code",
   "execution_count": null,
   "id": "bc2173b9",
   "metadata": {},
   "outputs": [],
   "source": [
    "8.\n",
    "Создайте поле с категориями:\n",
    "Для фондов, которые инвестируют в 100 и более компаний, назначьте категорию high_activity.\n",
    "Для фондов, которые инвестируют в 20 и более компаний до 100, назначьте категорию middle_activity.\n",
    "Если количество инвестируемых компаний фонда не достигает 20, назначьте категорию low_activity.\n",
    "Отобразите все поля таблицы fund и новое поле с категориями."
   ]
  },
  {
   "cell_type": "markdown",
   "id": "0cf0c5a2",
   "metadata": {},
   "source": [
    "SELECT * ,\n",
    "     CASE \n",
    "         WHEN invested_companies >= 100 THEN 'high_activity'\n",
    "         WHEN invested_companies >= 20 AND invested_companies < 100 THEN 'middle_activity'\n",
    "         ELSE 'low_activity'\n",
    "      END activity\n",
    "FROM fund \n",
    "ORDER BY name;"
   ]
  },
  {
   "cell_type": "markdown",
   "id": "b179e8ed",
   "metadata": {},
   "source": [
    "9.\n",
    "Для каждой из категорий, назначенных в предыдущем задании, посчитайте округлённое до ближайшего целого числа среднее количество инвестиционных раундов, в которых фонд принимал участие. Выведите на экран категории и среднее число инвестиционных раундов. Отсортируйте таблицу по возрастанию среднего."
   ]
  },
  {
   "cell_type": "markdown",
   "id": "3d9a0f86",
   "metadata": {},
   "source": [
    "SELECT ROUND (AVG (investment_rounds)) AS avg,\n",
    "       CASE\n",
    "           WHEN invested_companies>=100 THEN 'high_activity'\n",
    "           WHEN invested_companies>=20 THEN 'middle_activity'\n",
    "           ELSE 'low_activity'\n",
    "       END AS activity\n",
    "FROM fund\n",
    "GROUP BY activity\n",
    "ORDER BY avg;"
   ]
  },
  {
   "cell_type": "markdown",
   "id": "f36d8aa2",
   "metadata": {},
   "source": [
    "10.\n",
    "Проанализируйте, в каких странах находятся фонды, которые чаще всего инвестируют в стартапы. \n",
    "Для каждой страны посчитайте минимальное, максимальное и среднее число компаний, в которые инвестировали фонды этой страны, основанные с 2010 по 2012 год включительно. Исключите страны с фондами, у которых минимальное число компаний, получивших инвестиции, равно нулю. \n",
    "Выгрузите десять самых активных стран-инвесторов: отсортируйте таблицу по среднему количеству компаний от большего к меньшему. Затем добавьте сортировку по коду страны в лексикографическом порядке."
   ]
  },
  {
   "cell_type": "code",
   "execution_count": null,
   "id": "700ca58d",
   "metadata": {},
   "outputs": [],
   "source": [
    "SELECT DISTINCT country_code,\n",
    "       AVG (invested_companies),\n",
    "       MIN (invested_companies),\n",
    "       MAX (invested_companies)\n",
    "FROM fund\n",
    "WHERE EXTRACT(YEAR FROM CAST (founded_at AS date)) BETWEEN 2010 AND 2012\n",
    "GROUP BY country_code\n",
    "HAVING MIN (invested_companies) <> 0\n",
    "ORDER BY AVG (invested_companies)DESC, country_code\n",
    "LIMIT 10;"
   ]
  },
  {
   "cell_type": "markdown",
   "id": "ecdeb965",
   "metadata": {},
   "source": [
    "11.\n",
    "Отобразите имя и фамилию всех сотрудников стартапов. Добавьте поле с названием учебного заведения, которое окончил сотрудник, если эта информация известна."
   ]
  },
  {
   "cell_type": "code",
   "execution_count": null,
   "id": "1247af61",
   "metadata": {},
   "outputs": [],
   "source": [
    "SELECT first_name,\n",
    "       last_name,\n",
    "       instituition\n",
    "FROM people AS p\n",
    "LEFT JOIN education AS ed ON p.id = ed.person_id;"
   ]
  },
  {
   "cell_type": "markdown",
   "id": "5ff650b1",
   "metadata": {},
   "source": [
    "12.\n",
    "Для каждой компании найдите количество учебных заведений, которые окончили её сотрудники. Выведите название компании и число уникальных названий учебных заведений. Составьте топ-5 компаний по количеству университетов."
   ]
  },
  {
   "cell_type": "markdown",
   "id": "5cac2dab",
   "metadata": {},
   "source": [
    "SELECT c.name,\n",
    "       COUNT (DISTINCT ed.instituition) AS ed_count\n",
    "FROM company AS c\n",
    "INNER JOIN people AS p ON c.id = p.company_id\n",
    "LEFT JOIN education AS ed ON p.id = ed.person_id\n",
    "GROUP BY c.id\n",
    "ORDER BY ed_count DESC\n",
    "LIMIT 5;"
   ]
  },
  {
   "cell_type": "markdown",
   "id": "1c1693fb",
   "metadata": {},
   "source": [
    "13.\n",
    "Составьте список с уникальными названиями закрытых компаний, для которых первый раунд финансирования оказался последним."
   ]
  },
  {
   "cell_type": "markdown",
   "id": "ede04c9b",
   "metadata": {},
   "source": [
    "SELECT DISTINCT c.name\n",
    "FROM company AS c \n",
    "INNER JOIN funding_round AS fr ON c.id=fr.company_id\n",
    "WHERE is_first_round = 1\n",
    "AND is_last_round = 1\n",
    "AND status= 'closed'\n",
    "GROUP BY c.name;\n"
   ]
  },
  {
   "cell_type": "markdown",
   "id": "04aef701",
   "metadata": {},
   "source": [
    "14.\n",
    "Составьте список уникальных номеров сотрудников, которые работают в компаниях, отобранных в предыдущем задании."
   ]
  },
  {
   "cell_type": "markdown",
   "id": "920468ac",
   "metadata": {},
   "source": [
    "SELECT dead_comp.ppl\n",
    "FROM (SELECT DISTINCT c.name,\n",
    "      p.id as ppl\n",
    "FROM company AS c \n",
    "INNER JOIN funding_round AS fr ON c.id=fr.company_id\n",
    "INNER JOIN people AS p ON c.id = p.company_id\n",
    "WHERE is_first_round = 1\n",
    "AND is_last_round = 1\n",
    "AND status= 'closed') AS dead_comp;\n"
   ]
  },
  {
   "cell_type": "markdown",
   "id": "ec66c93a",
   "metadata": {},
   "source": [
    "15.\n",
    "Составьте таблицу, куда войдут уникальные пары с номерами сотрудников из предыдущей задачи и учебным заведением, которое окончил сотрудник."
   ]
  },
  {
   "cell_type": "code",
   "execution_count": null,
   "id": "3be55070",
   "metadata": {},
   "outputs": [],
   "source": [
    "SELECT dead_comp.ppl,\n",
    "       dead_comp.inst\n",
    "FROM (SELECT DISTINCT c.name,\n",
    "      p.id as ppl,\n",
    "      instituition AS inst\n",
    "FROM company AS c \n",
    "INNER JOIN funding_round AS fr ON c.id=fr.company_id\n",
    "INNER JOIN people AS p ON c.id = p.company_id\n",
    "INNER JOIN education AS ed ON p.id = ed.person_id\n",
    "WHERE is_first_round = 1\n",
    "AND is_last_round = 1\n",
    "AND status= 'closed') AS dead_comp;\n"
   ]
  },
  {
   "cell_type": "markdown",
   "id": "77d452b5",
   "metadata": {},
   "source": [
    "16.\n",
    "Посчитайте количество учебных заведений для каждого сотрудника из предыдущего задания. При подсчёте учитывайте, что некоторые сотрудники могли окончить одно и то же заведение дважды."
   ]
  },
  {
   "cell_type": "markdown",
   "id": "5df33a66",
   "metadata": {},
   "source": [
    "SELECT dead_comp.ppl,\n",
    "       COUNT (instituition)\n",
    "FROM (SELECT DISTINCT c.name,\n",
    "      p.id as ppl\n",
    "FROM company AS c \n",
    "INNER JOIN funding_round AS fr ON c.id=fr.company_id\n",
    "INNER JOIN people AS p ON c.id = p.company_id\n",
    "WHERE is_first_round = 1\n",
    "AND is_last_round = 1\n",
    "AND status= 'closed') AS dead_comp\n",
    "INNER JOIN education AS ed ON dead_comp.ppl = ed.person_id\n",
    "GROUP BY dead_comp.ppl;"
   ]
  },
  {
   "cell_type": "markdown",
   "id": "925dd2d5",
   "metadata": {},
   "source": [
    "17.\n",
    "Дополните предыдущий запрос и выведите среднее число учебных заведений (всех, не только уникальных), которые окончили сотрудники разных компаний. Нужно вывести только одну запись, группировка здесь не понадобится."
   ]
  },
  {
   "cell_type": "code",
   "execution_count": null,
   "id": "b90a7a59",
   "metadata": {},
   "outputs": [],
   "source": [
    "SELECT AVG(filter.count)\n",
    "FROM (SELECT dead_comp.ppl,\n",
    "       COUNT (instituition) AS count\n",
    "FROM (SELECT DISTINCT c.name,\n",
    "      p.id as ppl\n",
    "FROM company AS c \n",
    "INNER JOIN funding_round AS fr ON c.id=fr.company_id\n",
    "INNER JOIN people AS p ON c.id = p.company_id\n",
    "WHERE is_first_round = 1\n",
    "AND is_last_round = 1\n",
    "AND status= 'closed') AS dead_comp\n",
    "INNER JOIN education AS ed ON dead_comp.ppl = ed.person_id\n",
    "GROUP BY dead_comp.ppl) AS filter;\n"
   ]
  },
  {
   "cell_type": "markdown",
   "id": "09d39b7d",
   "metadata": {},
   "source": [
    "18.\n",
    "Напишите похожий запрос: выведите среднее число учебных заведений (всех, не только уникальных), которые окончили сотрудники Facebook*.\n",
    "*(сервис, запрещённый на территории РФ)"
   ]
  },
  {
   "cell_type": "code",
   "execution_count": null,
   "id": "52492fd1",
   "metadata": {},
   "outputs": [],
   "source": [
    "SELECT AVG(filter.count)\n",
    "FROM (SELECT fb_comp.ppl,\n",
    "       COUNT (instituition) AS count\n",
    "FROM (SELECT DISTINCT c.name,\n",
    "      p.id as ppl\n",
    "FROM company AS c \n",
    "INNER JOIN funding_round AS fr ON c.id=fr.company_id\n",
    "INNER JOIN people AS p ON c.id = p.company_id\n",
    "WHERE c.name = 'Facebook') AS fb_comp\n",
    "INNER JOIN education AS ed ON fb_comp.ppl = ed.person_id\n",
    "GROUP BY fb_comp.ppl) AS filter;\n"
   ]
  },
  {
   "cell_type": "markdown",
   "id": "50574db6",
   "metadata": {},
   "source": [
    "19.\n",
    "Составьте таблицу из полей:\n",
    "name_of_fund — название фонда;\n",
    "name_of_company — название компании;\n",
    "amount — сумма инвестиций, которую привлекла компания в раунде.\n",
    "В таблицу войдут данные о компаниях, в истории которых было больше шести важных этапов, а раунды финансирования проходили с 2012 по 2013 год включительно."
   ]
  },
  {
   "cell_type": "markdown",
   "id": "6b18604a",
   "metadata": {},
   "source": [
    "SELECT f.name AS name_of_fund, \n",
    "       c.name AS name_of_company,\n",
    "       fr.raised_amount AS amount\n",
    "FROM investment AS i JOIN company AS c ON i.company_id = c.id\n",
    "JOIN fund AS f ON f.id = i.fund_id\n",
    "JOIN funding_round AS fr ON fr.id = i.funding_round_id\n",
    "WHERE c.milestones > 6\n",
    "  AND EXTRACT(YEAR FROM CAST(funded_at AS date)) BETWEEN 2012 AND 2013"
   ]
  },
  {
   "cell_type": "markdown",
   "id": "8ff014f0",
   "metadata": {},
   "source": [
    "20.\n",
    "Выгрузите таблицу, в которой будут такие поля:\n",
    "название компании-покупателя;\n",
    "сумма сделки;\n",
    "название компании, которую купили;\n",
    "сумма инвестиций, вложенных в купленную компанию;\n",
    "доля, которая отображает, во сколько раз сумма покупки превысила сумму вложенных в компанию инвестиций, округлённая до ближайшего целого числа.\n",
    "Не учитывайте те сделки, в которых сумма покупки равна нулю. Если сумма инвестиций в компанию равна нулю, исключите такую компанию из таблицы. \n",
    "Отсортируйте таблицу по сумме сделки от большей к меньшей, а затем по названию купленной компании в лексикографическом порядке. Ограничьте таблицу первыми десятью записями."
   ]
  },
  {
   "cell_type": "markdown",
   "id": "ce870ea6",
   "metadata": {},
   "source": [
    "SELECT a_ing.name, \n",
    "       a_ing.price_amount,\n",
    "       a_ed.name,\n",
    "       a_ed.funding_total,\n",
    "       ROUND(a_ing.price_amount / a_ed.funding_total) AS income_share\n",
    "FROM (SELECT comp.name,\n",
    "             acq.id,\n",
    "             acq.acquiring_company_id,\n",
    "             acq.price_amount\n",
    "             FROM acquisition AS acq\n",
    "             LEFT JOIN company AS comp ON acq.acquiring_company_id = comp.id\n",
    "            ) AS a_ing \n",
    "LEFT JOIN (SELECT comp.name,\n",
    "                  acq.id,\n",
    "                  acq.acquired_company_id,\n",
    "                  comp.funding_total\n",
    "            FROM acquisition AS acq\n",
    "            LEFT JOIN company AS comp ON acq.acquired_company_id = comp.id\n",
    "            ) AS a_ed ON a_ing.id = a_ed.id\n",
    "WHERE a_ing.price_amount <> 0\n",
    "AND a_ed.funding_total <> 0\n",
    "GROUP BY a_ing.name, a_ing.price_amount, a_ed.name, a_ed.funding_total\n",
    "ORDER BY a_ing.price_amount DESC,  a_ed.name\n",
    "LIMIT 10;\n",
    "\n",
    "       "
   ]
  },
  {
   "cell_type": "markdown",
   "id": "ddbb09b9",
   "metadata": {},
   "source": [
    "21.\n",
    "Выгрузите таблицу, в которую войдут названия компаний из категории social, получившие финансирование с 2010 по 2013 год включительно. Проверьте, что сумма инвестиций не равна нулю. Выведите также номер месяца, в котором проходил раунд финансирования."
   ]
  },
  {
   "cell_type": "code",
   "execution_count": null,
   "id": "6ec338fe",
   "metadata": {},
   "outputs": [],
   "source": [
    "SELECT c.name,\n",
    "       EXTRACT (MONTH FROM CAST(funded_at AS date))\n",
    "FROM company AS c\n",
    "INNER JOIN funding_round AS fr ON c.id = fr.company_id\n",
    "WHERE category_code = 'social'\n",
    "AND raised_amount <> 0\n",
    "AND EXTRACT (YEAR FROM CAST(funded_at AS date)) BETWEEN 2010 AND 2013\n",
    "ORDER BY c.name;"
   ]
  },
  {
   "cell_type": "markdown",
   "id": "eed67c3a",
   "metadata": {},
   "source": [
    "22.\n",
    "Отберите данные по месяцам с 2010 по 2013 год, когда проходили инвестиционные раунды. Сгруппируйте данные по номеру месяца и получите таблицу, в которой будут поля:\n",
    "номер месяца, в котором проходили раунды;\n",
    "количество уникальных названий фондов из США, которые инвестировали в этом месяце;\n",
    "количество компаний, купленных за этот месяц;\n",
    "общая сумма сделок по покупкам в этом месяце."
   ]
  },
  {
   "cell_type": "markdown",
   "id": "d3303e4b",
   "metadata": {},
   "source": [
    "WITH\n",
    "a AS (SELECT EXTRACT (MONTH FROM CAST(funded_at AS date)) AS month,\n",
    "       id,\n",
    "       company_id,\n",
    "       raised_amount\n",
    "      FROM funding_round AS fr\n",
    "      WHERE EXTRACT (YEAR FROM CAST(funded_at AS date)) BETWEEN 2010 AND 2013),\n",
    "\n",
    "b AS (SELECT DISTINCT name AS name,\n",
    "      f.id,\n",
    "      inv.funding_round_id AS fr_id\n",
    "      FROM fund AS f\n",
    "      LEFT JOIN investment AS inv ON inv.fund_id = f.id\n",
    "      WHERE country_code = 'USA'),\n",
    "\n",
    "c AS (SELECT acquired_company_id,\n",
    "             comp.id AS c_id,\n",
    "             EXTRACT (MONTH FROM CAST(acquired_at AS date)) AS month\n",
    "      FROM acquisition AS acq\n",
    "      LEFT JOIN company AS comp ON acq.acquired_company_id = comp.id)\n",
    "\n",
    "SELECT a.month,\n",
    "       b.name,\n",
    "       COUNT(c.acquired_company_id) AS count_id,\n",
    "       SUM (a.raised_amount) AS sum_tot\n",
    "FROM a\n",
    "INNER JOIN b ON a.id = b.fr_id\n",
    "INNER JOIN c ON a.month = c.month\n",
    "GROUP BY a.month, b.name;"
   ]
  },
  {
   "cell_type": "markdown",
   "id": "518361b3",
   "metadata": {},
   "source": [
    "23.\n",
    "Составьте сводную таблицу и выведите среднюю сумму инвестиций для стран, в которых есть стартапы, зарегистрированные в 2011, 2012 и 2013 годах. Данные за каждый год должны быть в отдельном поле. Отсортируйте таблицу по среднему значению инвестиций за 2011 год от большего к меньшему."
   ]
  },
  {
   "cell_type": "code",
   "execution_count": null,
   "id": "56b82613",
   "metadata": {},
   "outputs": [],
   "source": [
    "WITH\n",
    "a AS(SELECT country_code, \n",
    "       AVG(funding_total) AS year_2011\n",
    "FROM company\n",
    "WHERE EXTRACT(YEAR FROM CAST (founded_at AS date)) = 2011\n",
    "GROUP BY country_code),\n",
    "\n",
    "b AS(SELECT country_code, \n",
    "       AVG(funding_total) AS year_2012\n",
    "FROM company\n",
    "WHERE EXTRACT(YEAR FROM CAST (founded_at AS date)) = 2012\n",
    "GROUP BY country_code),\n",
    "\n",
    "c AS(SELECT country_code, \n",
    "       AVG(funding_total) AS year_2013\n",
    "FROM company\n",
    "WHERE EXTRACT(YEAR FROM CAST (founded_at AS date)) = 2013\n",
    "GROUP BY country_code)\n",
    "\n",
    "SELECT a.country_code,\n",
    "       year_2011,\n",
    "       year_2012,\n",
    "       year_2013\n",
    "FROM a \n",
    "JOIN b ON a.country_code = b.country_code\n",
    "JOIN c ON a.country_code = c.country_code\n",
    "ORDER BY year_2011 DESC"
   ]
  },
  {
   "cell_type": "code",
   "execution_count": null,
   "id": "4cc1c43e",
   "metadata": {},
   "outputs": [],
   "source": []
  },
  {
   "cell_type": "code",
   "execution_count": null,
   "id": "ec8f7245",
   "metadata": {},
   "outputs": [],
   "source": []
  }
 ],
 "metadata": {
  "kernelspec": {
   "display_name": "Python 3 (ipykernel)",
   "language": "python",
   "name": "python3"
  },
  "language_info": {
   "codemirror_mode": {
    "name": "ipython",
    "version": 3
   },
   "file_extension": ".py",
   "mimetype": "text/x-python",
   "name": "python",
   "nbconvert_exporter": "python",
   "pygments_lexer": "ipython3",
   "version": "3.10.1"
  },
  "toc": {
   "base_numbering": 1,
   "nav_menu": {},
   "number_sections": true,
   "sideBar": true,
   "skip_h1_title": false,
   "title_cell": "Table of Contents",
   "title_sidebar": "Contents",
   "toc_cell": false,
   "toc_position": {},
   "toc_section_display": true,
   "toc_window_display": false
  }
 },
 "nbformat": 4,
 "nbformat_minor": 5
}
