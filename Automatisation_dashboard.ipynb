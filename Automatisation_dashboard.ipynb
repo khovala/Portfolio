{
 "cells": [
  {
   "cell_type": "markdown",
   "id": "c2842a68",
   "metadata": {},
   "source": [
    "# Проект Автоматизация\n",
    "\n",
    "## Задачи проекта:\n",
    "Используя данные Яндекс.Дзена построить дашборд с метриками взаимодействия пользователей с карточками статей\n",
    "\n",
    "## Описание проекта:\n",
    "Работу над этим проектом я провел на удаленной машине в сервисе Yandex.Cloud. Мной\n",
    "был установлен PostgreSQL, развернута база данных. Затем я написал скрипт пайплайна,\n",
    "который позволил собирать данные за определенный временной период, и настроил его\n",
    "автономную работу через crontab. Для визуализации собранных данных я написал скрипт\n",
    "дашборда с несколькими фильтрами и также запустил его на удаленной машине. По\n",
    "результатам была подготовлена презентация с полученными графиками\n",
    "\n",
    "## Дашборд\n",
    " Дашборд доступен по ссылке:\n",
    "\n",
    "https://public.tableau.com/app/profile/sergey.eliseev/viz/YadzenEliseevSergei/__?publish=yes\n",
    "\n",
    "## Презентация\n",
    "Презентация доступна по ссылке:\n",
    "\n",
    "https://disk.yandex.ru/d/7vn-J7A7Mv66kQ"
   ]
  }
 ],
 "metadata": {
  "kernelspec": {
   "display_name": "Python 3 (ipykernel)",
   "language": "python",
   "name": "python3"
  },
  "language_info": {
   "codemirror_mode": {
    "name": "ipython",
    "version": 3
   },
   "file_extension": ".py",
   "mimetype": "text/x-python",
   "name": "python",
   "nbconvert_exporter": "python",
   "pygments_lexer": "ipython3",
   "version": "3.10.1"
  },
  "toc": {
   "base_numbering": 1,
   "nav_menu": {},
   "number_sections": true,
   "sideBar": true,
   "skip_h1_title": false,
   "title_cell": "Table of Contents",
   "title_sidebar": "Contents",
   "toc_cell": false,
   "toc_position": {},
   "toc_section_display": true,
   "toc_window_display": false
  }
 },
 "nbformat": 4,
 "nbformat_minor": 5
}
