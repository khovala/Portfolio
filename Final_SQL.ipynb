{
 "cells": [
  {
   "cell_type": "markdown",
   "id": "b5413d2e",
   "metadata": {},
   "source": [
    "<div class=\"alert alert-info\">\n",
    "Привет, Сергей! Меня зовут Светлана Чих и я буду проверять твой проект. Моя основная цель — не указать на совершенные тобою ошибки, а поделиться своим опытом и помочь тебе. Предлагаю общаться на «ты». Но если это не удобно - дай знать, и мы перейдем на «вы».\n",
    "\n",
    "<div class=\"alert alert-success\">\n",
    "<b>👍 Успех:</b> Зелёным цветом отмечены удачные и элегантные решения, на которые можно опираться в будущих проектах.\n",
    "</div>\n",
    "<div class=\"alert alert-warning\">\n",
    "<b>🤔 Рекомендация:</b> Жёлтым цветом выделено то, что в следующий раз можно сделать по-другому. Ты можешь учесть эти комментарии при выполнении будущих заданий или доработать проект сейчас (однако это не обязательно).\n",
    "</div>\n",
    "<div class=\"alert alert-danger\">\n",
    "<b>😔 Необходимо исправить:</b> Красным цветом выделены комментарии, без исправления которых, я не смогу принять проект :(\n",
    "</div>\n",
    "<div class=\"alert alert-info\">\n",
    "<b>👂 Совет:</b> Какие-то дополнительные материалы\n",
    "</div>\n",
    "Давай работать над проектом в диалоге: если ты что-то меняешь в проекте по моим рекомендациям — пиши об этом.\n",
    "Мне будет легче отследить изменения, если ты выделишь свои комментарии:\n",
    "<div class=\"alert alert-info\"> <b>🎓 Комментарий студента:</b> Например, вот так.</div>\n",
    "Пожалуйста, не перемещай, не изменяй и не удаляй мои комментарии. Всё это поможет выполнить повторную проверку твоего проекта быстрее.\n",
    " </div>\n"
   ]
  },
  {
   "cell_type": "markdown",
   "id": "7cbcadaf",
   "metadata": {},
   "source": [
    "# Описание проекта SQL\n",
    "\n",
    "Коронавирус застал мир врасплох, изменив привычный порядок вещей. В свободное время жители городов больше не выходят на улицу, не посещают кафе и торговые центры. Зато стало больше времени для книг. Это заметили стартаперы — и бросились создавать приложения для тех, кто любит читать.\n",
    "Ваша компания решила быть на волне и купила крупный сервис для чтения книг по подписке. Ваша первая задача как аналитика — проанализировать базу данных. В ней — информация о книгах, издательствах, авторах, а также пользовательские обзоры книг. Эти данные помогут сформулировать ценностное предложение для нового продукта.\n",
    "\n",
    "Описание данных\n",
    "\n",
    "**Таблица books\n",
    "Содержит данные о книгах:**\n",
    "\n",
    "•\tbook_id — идентификатор книги;  \n",
    "•\tauthor_id — идентификатор автора;  \n",
    "•\ttitle — название книги;  \n",
    "•\tnum_pages — количество страниц;  \n",
    "•\tpublication_date — дата публикации книги;  \n",
    "•\tpublisher_id — идентификатор издателя.\n",
    "\n",
    "\n",
    "**Таблица authors\n",
    "Содержит данные об авторах:**\n",
    "\n",
    "•\tauthor_id — идентификатор автора;  \n",
    "•\tauthor — имя автора.\n",
    "\n",
    "\n",
    "**Таблица publishers\n",
    "Содержит данные об издательствах:**\n",
    "\n",
    "•\tpublisher_id — идентификатор издательства;  \n",
    "•\tpublisher — название издательства;\n",
    "\n",
    "\n",
    "**Таблица ratings\n",
    "Содержит данные о пользовательских оценках книг:**\n",
    "\n",
    "•\trating_id — идентификатор оценки;  \n",
    "•\tbook_id — идентификатор книги;  \n",
    "•\tusername — имя пользователя, оставившего оценку;  \n",
    "•\trating — оценка книги.\n",
    "\n",
    "\n",
    "**Таблица reviews\n",
    "Содержит данные о пользовательских обзорах на книги:**\n",
    "\n",
    "•\treview_id — идентификатор обзора;  \n",
    "•\tbook_id — идентификатор книги;  \n",
    "•\tusername — имя пользователя, написавшего обзор;  \n",
    "•\ttext — текст обзора.\n"
   ]
  },
  {
   "cell_type": "markdown",
   "id": "8738fcc0",
   "metadata": {},
   "source": [
    "## План выполнения задания\n",
    "\n",
    "**Задания**\n",
    "\n",
    "•\tПосчитайте, сколько книг вышло после 1 января 2000 года;  \n",
    "•\tДля каждой книги посчитайте количество обзоров и среднюю оценку;  \n",
    "•   Определите издательство, которое выпустило наибольшее число книг толще 50 страниц — так вы исключите из анализа брошюры;  \n",
    "•\tОпределите автора с самой высокой средней оценкой книг — учитывайте только книги с 50 и более оценками;  \n",
    "•   Посчитайте среднее количество обзоров от пользователей, которые поставили больше 50 оценок.\n",
    "\n",
    "\n",
    "**План выполнения?**\n",
    "\n",
    "•\tОпишите цели исследования;  \n",
    "•\tИсследуйте таблицы — выведите первые строки;  \n",
    "•\tСделайте по одному SQL-запросу для решения каждого задания;  \n",
    "•\tВыведите результат каждого запроса в тетрадке;  \n",
    "•\tОпишите выводы по каждой из решённых задач.\n"
   ]
  },
  {
   "cell_type": "code",
   "execution_count": 1,
   "id": "0585115d",
   "metadata": {},
   "outputs": [],
   "source": [
    "# импортируем библиотеки\n",
    "import pandas as pd\n",
    "from sqlalchemy import create_engine\n",
    "# устанавливаем параметры\n",
    "db_config = {'user': 'praktikum_student', # имя пользователя\n",
    "'pwd': 'Sdf4$2;d-d30pp', # пароль\n",
    "'host': 'rc1b-wcoijxj3yxfsf3fs.mdb.yandexcloud.net',\n",
    "'port': 6432, # порт подключения\n",
    "'db': 'data-analyst-final-project-db'} # название базы данных\n",
    "connection_string = 'postgresql://{}:{}@{}:{}/{}'.format(db_config['user'],\n",
    " db_config['pwd'],\n",
    " db_config['host'],\n",
    " db_config['port'],\n",
    " db_config['db'])\n",
    "# сохраняем коннектор\n",
    "engine = create_engine(connection_string, connect_args={'sslmode':'require'}) "
   ]
  },
  {
   "cell_type": "code",
   "execution_count": 2,
   "id": "9667a634",
   "metadata": {},
   "outputs": [],
   "source": [
    "# создадим функцию для вывода результата запроса\n",
    "def result(query):\n",
    "    return pd.io.sql.read_sql(query, con = engine)\n"
   ]
  },
  {
   "cell_type": "code",
   "execution_count": 3,
   "id": "5564bea8",
   "metadata": {},
   "outputs": [
    {
     "data": {
      "text/html": [
       "<div>\n",
       "<style scoped>\n",
       "    .dataframe tbody tr th:only-of-type {\n",
       "        vertical-align: middle;\n",
       "    }\n",
       "\n",
       "    .dataframe tbody tr th {\n",
       "        vertical-align: top;\n",
       "    }\n",
       "\n",
       "    .dataframe thead th {\n",
       "        text-align: right;\n",
       "    }\n",
       "</style>\n",
       "<table border=\"1\" class=\"dataframe\">\n",
       "  <thead>\n",
       "    <tr style=\"text-align: right;\">\n",
       "      <th></th>\n",
       "      <th>book_id</th>\n",
       "      <th>author_id</th>\n",
       "      <th>title</th>\n",
       "      <th>num_pages</th>\n",
       "      <th>publication_date</th>\n",
       "      <th>publisher_id</th>\n",
       "    </tr>\n",
       "  </thead>\n",
       "  <tbody>\n",
       "    <tr>\n",
       "      <th>0</th>\n",
       "      <td>1</td>\n",
       "      <td>546</td>\n",
       "      <td>'Salem's Lot</td>\n",
       "      <td>594</td>\n",
       "      <td>2005-11-01</td>\n",
       "      <td>93</td>\n",
       "    </tr>\n",
       "    <tr>\n",
       "      <th>1</th>\n",
       "      <td>2</td>\n",
       "      <td>465</td>\n",
       "      <td>1 000 Places to See Before You Die</td>\n",
       "      <td>992</td>\n",
       "      <td>2003-05-22</td>\n",
       "      <td>336</td>\n",
       "    </tr>\n",
       "    <tr>\n",
       "      <th>2</th>\n",
       "      <td>3</td>\n",
       "      <td>407</td>\n",
       "      <td>13 Little Blue Envelopes (Little Blue Envelope...</td>\n",
       "      <td>322</td>\n",
       "      <td>2010-12-21</td>\n",
       "      <td>135</td>\n",
       "    </tr>\n",
       "    <tr>\n",
       "      <th>3</th>\n",
       "      <td>4</td>\n",
       "      <td>82</td>\n",
       "      <td>1491: New Revelations of the Americas Before C...</td>\n",
       "      <td>541</td>\n",
       "      <td>2006-10-10</td>\n",
       "      <td>309</td>\n",
       "    </tr>\n",
       "    <tr>\n",
       "      <th>4</th>\n",
       "      <td>5</td>\n",
       "      <td>125</td>\n",
       "      <td>1776</td>\n",
       "      <td>386</td>\n",
       "      <td>2006-07-04</td>\n",
       "      <td>268</td>\n",
       "    </tr>\n",
       "    <tr>\n",
       "      <th>5</th>\n",
       "      <td>6</td>\n",
       "      <td>257</td>\n",
       "      <td>1st to Die (Women's Murder Club  #1)</td>\n",
       "      <td>424</td>\n",
       "      <td>2005-05-20</td>\n",
       "      <td>116</td>\n",
       "    </tr>\n",
       "    <tr>\n",
       "      <th>6</th>\n",
       "      <td>7</td>\n",
       "      <td>258</td>\n",
       "      <td>2nd Chance (Women's Murder Club  #2)</td>\n",
       "      <td>400</td>\n",
       "      <td>2005-05-20</td>\n",
       "      <td>116</td>\n",
       "    </tr>\n",
       "    <tr>\n",
       "      <th>7</th>\n",
       "      <td>8</td>\n",
       "      <td>260</td>\n",
       "      <td>4th of July (Women's Murder Club  #4)</td>\n",
       "      <td>448</td>\n",
       "      <td>2006-06-01</td>\n",
       "      <td>318</td>\n",
       "    </tr>\n",
       "    <tr>\n",
       "      <th>8</th>\n",
       "      <td>9</td>\n",
       "      <td>563</td>\n",
       "      <td>A Beautiful Mind</td>\n",
       "      <td>461</td>\n",
       "      <td>2002-02-04</td>\n",
       "      <td>104</td>\n",
       "    </tr>\n",
       "    <tr>\n",
       "      <th>9</th>\n",
       "      <td>10</td>\n",
       "      <td>445</td>\n",
       "      <td>A Bend in the Road</td>\n",
       "      <td>341</td>\n",
       "      <td>2005-04-01</td>\n",
       "      <td>116</td>\n",
       "    </tr>\n",
       "  </tbody>\n",
       "</table>\n",
       "</div>"
      ],
      "text/plain": [
       "   book_id  author_id                                              title  \\\n",
       "0        1        546                                       'Salem's Lot   \n",
       "1        2        465                 1 000 Places to See Before You Die   \n",
       "2        3        407  13 Little Blue Envelopes (Little Blue Envelope...   \n",
       "3        4         82  1491: New Revelations of the Americas Before C...   \n",
       "4        5        125                                               1776   \n",
       "5        6        257               1st to Die (Women's Murder Club  #1)   \n",
       "6        7        258               2nd Chance (Women's Murder Club  #2)   \n",
       "7        8        260              4th of July (Women's Murder Club  #4)   \n",
       "8        9        563                                   A Beautiful Mind   \n",
       "9       10        445                                 A Bend in the Road   \n",
       "\n",
       "   num_pages publication_date  publisher_id  \n",
       "0        594       2005-11-01            93  \n",
       "1        992       2003-05-22           336  \n",
       "2        322       2010-12-21           135  \n",
       "3        541       2006-10-10           309  \n",
       "4        386       2006-07-04           268  \n",
       "5        424       2005-05-20           116  \n",
       "6        400       2005-05-20           116  \n",
       "7        448       2006-06-01           318  \n",
       "8        461       2002-02-04           104  \n",
       "9        341       2005-04-01           116  "
      ]
     },
     "execution_count": 3,
     "metadata": {},
     "output_type": "execute_result"
    }
   ],
   "source": [
    "# выведем первые 10 строк таблицы\n",
    "query ='''\n",
    "\n",
    "SELECT *\n",
    "FROM books\n",
    "LIMIT 10 \n",
    "\n",
    "'''\n",
    "result(query)"
   ]
  },
  {
   "cell_type": "markdown",
   "id": "66591cad",
   "metadata": {},
   "source": [
    " <div class=\"alert alert-success\">\n",
    " <b>👍 Успех:</b> Есть описание задачи, импортированы все нужные библиотеки, создано подключение к БД, просмотрены таблицы\n",
    " </div>"
   ]
  },
  {
   "cell_type": "markdown",
   "id": "bb03181b",
   "metadata": {},
   "source": [
    "### Задание 1.\n",
    "Посчитайте, сколько книг вышло после 1 января 2000 года;"
   ]
  },
  {
   "cell_type": "code",
   "execution_count": 4,
   "id": "72ed3659",
   "metadata": {},
   "outputs": [
    {
     "data": {
      "text/html": [
       "<div>\n",
       "<style scoped>\n",
       "    .dataframe tbody tr th:only-of-type {\n",
       "        vertical-align: middle;\n",
       "    }\n",
       "\n",
       "    .dataframe tbody tr th {\n",
       "        vertical-align: top;\n",
       "    }\n",
       "\n",
       "    .dataframe thead th {\n",
       "        text-align: right;\n",
       "    }\n",
       "</style>\n",
       "<table border=\"1\" class=\"dataframe\">\n",
       "  <thead>\n",
       "    <tr style=\"text-align: right;\">\n",
       "      <th></th>\n",
       "      <th>count</th>\n",
       "    </tr>\n",
       "  </thead>\n",
       "  <tbody>\n",
       "    <tr>\n",
       "      <th>0</th>\n",
       "      <td>819</td>\n",
       "    </tr>\n",
       "  </tbody>\n",
       "</table>\n",
       "</div>"
      ],
      "text/plain": [
       "   count\n",
       "0    819"
      ]
     },
     "execution_count": 4,
     "metadata": {},
     "output_type": "execute_result"
    }
   ],
   "source": [
    "query ='''\n",
    "\n",
    "SELECT COUNT (book_id)\n",
    "FROM books\n",
    "WHERE publication_date > '2000-01-01'\n",
    "\n",
    "'''\n",
    "result(query)"
   ]
  },
  {
   "cell_type": "markdown",
   "id": "212ce638",
   "metadata": {},
   "source": [
    "Вывод: 819 книг вышло после 2000-01-01"
   ]
  },
  {
   "cell_type": "markdown",
   "id": "f72fc29f",
   "metadata": {},
   "source": [
    "<div class=\"alert alert-success\">\n",
    " <b>👍 Успех:</b> Все верно!\n",
    " </div>"
   ]
  },
  {
   "cell_type": "markdown",
   "id": "a4f2b04e",
   "metadata": {},
   "source": [
    "### Задание 2.\n",
    "Для каждой книги посчитайте количество обзоров и среднюю оценку;"
   ]
  },
  {
   "cell_type": "code",
   "execution_count": 19,
   "id": "37cb7ca8",
   "metadata": {},
   "outputs": [
    {
     "data": {
      "text/html": [
       "<div>\n",
       "<style scoped>\n",
       "    .dataframe tbody tr th:only-of-type {\n",
       "        vertical-align: middle;\n",
       "    }\n",
       "\n",
       "    .dataframe tbody tr th {\n",
       "        vertical-align: top;\n",
       "    }\n",
       "\n",
       "    .dataframe thead th {\n",
       "        text-align: right;\n",
       "    }\n",
       "</style>\n",
       "<table border=\"1\" class=\"dataframe\">\n",
       "  <thead>\n",
       "    <tr style=\"text-align: right;\">\n",
       "      <th></th>\n",
       "      <th>book_id</th>\n",
       "      <th>title</th>\n",
       "      <th>avg_rating</th>\n",
       "      <th>review_count</th>\n",
       "    </tr>\n",
       "  </thead>\n",
       "  <tbody>\n",
       "    <tr>\n",
       "      <th>0</th>\n",
       "      <td>652</td>\n",
       "      <td>The Body in the Library (Miss Marple  #3)</td>\n",
       "      <td>4.500000</td>\n",
       "      <td>2.0</td>\n",
       "    </tr>\n",
       "    <tr>\n",
       "      <th>1</th>\n",
       "      <td>273</td>\n",
       "      <td>Galápagos</td>\n",
       "      <td>4.500000</td>\n",
       "      <td>2.0</td>\n",
       "    </tr>\n",
       "    <tr>\n",
       "      <th>2</th>\n",
       "      <td>51</td>\n",
       "      <td>A Tree Grows in Brooklyn</td>\n",
       "      <td>4.250000</td>\n",
       "      <td>5.0</td>\n",
       "    </tr>\n",
       "    <tr>\n",
       "      <th>3</th>\n",
       "      <td>951</td>\n",
       "      <td>Undaunted Courage: The Pioneering First Missio...</td>\n",
       "      <td>4.000000</td>\n",
       "      <td>2.0</td>\n",
       "    </tr>\n",
       "    <tr>\n",
       "      <th>4</th>\n",
       "      <td>839</td>\n",
       "      <td>The Prophet</td>\n",
       "      <td>4.285714</td>\n",
       "      <td>4.0</td>\n",
       "    </tr>\n",
       "    <tr>\n",
       "      <th>...</th>\n",
       "      <td>...</td>\n",
       "      <td>...</td>\n",
       "      <td>...</td>\n",
       "      <td>...</td>\n",
       "    </tr>\n",
       "    <tr>\n",
       "      <th>995</th>\n",
       "      <td>64</td>\n",
       "      <td>Alice in Wonderland</td>\n",
       "      <td>4.230769</td>\n",
       "      <td>4.0</td>\n",
       "    </tr>\n",
       "    <tr>\n",
       "      <th>996</th>\n",
       "      <td>55</td>\n",
       "      <td>A Woman of Substance (Emma Harte Saga #1)</td>\n",
       "      <td>5.000000</td>\n",
       "      <td>2.0</td>\n",
       "    </tr>\n",
       "    <tr>\n",
       "      <th>997</th>\n",
       "      <td>148</td>\n",
       "      <td>Christine</td>\n",
       "      <td>3.428571</td>\n",
       "      <td>3.0</td>\n",
       "    </tr>\n",
       "    <tr>\n",
       "      <th>998</th>\n",
       "      <td>790</td>\n",
       "      <td>The Magicians' Guild (Black Magician Trilogy  #1)</td>\n",
       "      <td>3.500000</td>\n",
       "      <td>2.0</td>\n",
       "    </tr>\n",
       "    <tr>\n",
       "      <th>999</th>\n",
       "      <td>828</td>\n",
       "      <td>The Plot Against America</td>\n",
       "      <td>3.000000</td>\n",
       "      <td>2.0</td>\n",
       "    </tr>\n",
       "  </tbody>\n",
       "</table>\n",
       "<p>1000 rows × 4 columns</p>\n",
       "</div>"
      ],
      "text/plain": [
       "     book_id                                              title  avg_rating  \\\n",
       "0        652          The Body in the Library (Miss Marple  #3)    4.500000   \n",
       "1        273                                          Galápagos    4.500000   \n",
       "2         51                           A Tree Grows in Brooklyn    4.250000   \n",
       "3        951  Undaunted Courage: The Pioneering First Missio...    4.000000   \n",
       "4        839                                        The Prophet    4.285714   \n",
       "..       ...                                                ...         ...   \n",
       "995       64                                Alice in Wonderland    4.230769   \n",
       "996       55          A Woman of Substance (Emma Harte Saga #1)    5.000000   \n",
       "997      148                                          Christine    3.428571   \n",
       "998      790  The Magicians' Guild (Black Magician Trilogy  #1)    3.500000   \n",
       "999      828                           The Plot Against America    3.000000   \n",
       "\n",
       "     review_count  \n",
       "0             2.0  \n",
       "1             2.0  \n",
       "2             5.0  \n",
       "3             2.0  \n",
       "4             4.0  \n",
       "..            ...  \n",
       "995           4.0  \n",
       "996           2.0  \n",
       "997           3.0  \n",
       "998           2.0  \n",
       "999           2.0  \n",
       "\n",
       "[1000 rows x 4 columns]"
      ]
     },
     "execution_count": 19,
     "metadata": {},
     "output_type": "execute_result"
    }
   ],
   "source": [
    "query ='''\n",
    "\n",
    "SELECT b.book_id,\n",
    "       b.title,\n",
    "       rat.avg_rating,\n",
    "       rev.review_count\n",
    "FROM books b\n",
    "LEFT JOIN (SELECT book_id, AVG(rating) avg_rating FROM ratings GROUP BY book_id) rat ON b.book_id=rat.book_id\n",
    "LEFT JOIN (SELECT book_id, COUNT(*) review_count FROM reviews GROUP BY book_id) rev ON b.book_id=rev.book_id\n",
    "\n",
    "\n",
    "\n",
    "'''\n",
    "result(query)"
   ]
  },
  {
   "cell_type": "markdown",
   "id": "026292db",
   "metadata": {},
   "source": [
    "Вывод: Twilight кажется настоящий блокбастер, 1120 отзывов. В 2 раза больше,чем у ближайшего конкурента The Hobbit or  There and Back Again"
   ]
  },
  {
   "cell_type": "markdown",
   "id": "d58c7c0b",
   "metadata": {},
   "source": [
    " <div class=\"alert alert-danger\">\n",
    "<s> <b>😔 Необходимо исправить:</b> В итоговую таблицу вошли не все книги, а вот обзоров получилось слишком много, это связано с особенностью объединения таблиц и некоторые посчиталсь по несколько раз</s>\n",
    " </div>"
   ]
  },
  {
   "cell_type": "markdown",
   "id": "13619f20",
   "metadata": {},
   "source": [
    "<div class=\"alert alert-info\"> <b>🎓 Комментарий студента:</b> Запрос испрвил. Тепрь вроде похоже на правду.</div>"
   ]
  },
  {
   "cell_type": "markdown",
   "id": "23fb7113",
   "metadata": {},
   "source": [
    " <div class=\"alert alert-success\">\n",
    " <b>👍 Успех:</b> Все верно!\n",
    " </div>"
   ]
  },
  {
   "cell_type": "markdown",
   "id": "8fc1c018",
   "metadata": {},
   "source": [
    "### Задача 3.\n",
    "Определите издательство, которое выпустило наибольшее число книг толще 50 страниц — так вы исключите из анализа брошюры;"
   ]
  },
  {
   "cell_type": "code",
   "execution_count": 6,
   "id": "7c3326b7",
   "metadata": {},
   "outputs": [
    {
     "data": {
      "text/html": [
       "<div>\n",
       "<style scoped>\n",
       "    .dataframe tbody tr th:only-of-type {\n",
       "        vertical-align: middle;\n",
       "    }\n",
       "\n",
       "    .dataframe tbody tr th {\n",
       "        vertical-align: top;\n",
       "    }\n",
       "\n",
       "    .dataframe thead th {\n",
       "        text-align: right;\n",
       "    }\n",
       "</style>\n",
       "<table border=\"1\" class=\"dataframe\">\n",
       "  <thead>\n",
       "    <tr style=\"text-align: right;\">\n",
       "      <th></th>\n",
       "      <th>publisher_id</th>\n",
       "      <th>publisher</th>\n",
       "      <th>count</th>\n",
       "    </tr>\n",
       "  </thead>\n",
       "  <tbody>\n",
       "    <tr>\n",
       "      <th>0</th>\n",
       "      <td>212</td>\n",
       "      <td>Penguin Books</td>\n",
       "      <td>42</td>\n",
       "    </tr>\n",
       "  </tbody>\n",
       "</table>\n",
       "</div>"
      ],
      "text/plain": [
       "   publisher_id      publisher  count\n",
       "0           212  Penguin Books     42"
      ]
     },
     "execution_count": 6,
     "metadata": {},
     "output_type": "execute_result"
    }
   ],
   "source": [
    "query ='''\n",
    "\n",
    "SELECT p.publisher_id,\n",
    "       publisher,\n",
    "       COUNT (b.book_id) as count     \n",
    "FROM books b\n",
    "JOIN publishers p ON p.publisher_id = b.publisher_id\n",
    "WHERE b.num_pages > 50\n",
    "GROUP BY p.publisher_id\n",
    "ORDER BY count DESC\n",
    "LIMIT 1\n",
    "\n",
    "\n",
    "'''\n",
    "result(query)"
   ]
  },
  {
   "cell_type": "markdown",
   "id": "485475ee",
   "metadata": {},
   "source": [
    "Вывод: Издательство Penguin Books издает больше всего книг, толще 50 стр., 42 штуки."
   ]
  },
  {
   "cell_type": "markdown",
   "id": "7a4475bc",
   "metadata": {},
   "source": [
    "<div class=\"alert alert-success\">\n",
    " <b>👍 Успех:</b> Все верно!\n",
    " </div>"
   ]
  },
  {
   "cell_type": "markdown",
   "id": "1559bf8c",
   "metadata": {},
   "source": [
    "### Задача 4.\n",
    "•\tОпределите автора с самой высокой средней оценкой книг — учитывайте только книги с 50 и более оценками"
   ]
  },
  {
   "cell_type": "code",
   "execution_count": 7,
   "id": "523fba27",
   "metadata": {},
   "outputs": [
    {
     "data": {
      "text/html": [
       "<div>\n",
       "<style scoped>\n",
       "    .dataframe tbody tr th:only-of-type {\n",
       "        vertical-align: middle;\n",
       "    }\n",
       "\n",
       "    .dataframe tbody tr th {\n",
       "        vertical-align: top;\n",
       "    }\n",
       "\n",
       "    .dataframe thead th {\n",
       "        text-align: right;\n",
       "    }\n",
       "</style>\n",
       "<table border=\"1\" class=\"dataframe\">\n",
       "  <thead>\n",
       "    <tr style=\"text-align: right;\">\n",
       "      <th></th>\n",
       "      <th>author</th>\n",
       "      <th>avg_rat</th>\n",
       "      <th>cnt_rat</th>\n",
       "    </tr>\n",
       "  </thead>\n",
       "  <tbody>\n",
       "    <tr>\n",
       "      <th>0</th>\n",
       "      <td>J.K. Rowling/Mary GrandPré</td>\n",
       "      <td>4.29</td>\n",
       "      <td>310</td>\n",
       "    </tr>\n",
       "  </tbody>\n",
       "</table>\n",
       "</div>"
      ],
      "text/plain": [
       "                       author  avg_rat  cnt_rat\n",
       "0  J.K. Rowling/Mary GrandPré     4.29      310"
      ]
     },
     "execution_count": 7,
     "metadata": {},
     "output_type": "execute_result"
    }
   ],
   "source": [
    "query ='''\n",
    "\n",
    "SELECT \n",
    "       ath.author,\n",
    "       ROUND (AVG (r.rating),2) AS avg_rat,\n",
    "       COUNT (r.rating) As cnt_rat\n",
    "FROM authors AS ath\n",
    "JOIN books b ON ath.author_id = b.author_id\n",
    "JOIN ratings r on r.book_id = b.book_id\n",
    "WHERE b.book_id IN \n",
    "                  (SELECT r.book_id      \n",
    "                   FROM ratings r  \n",
    "                   GROUP BY r.book_id\n",
    "                   HAVING COUNT (r.book_id) >= 50)\n",
    "GROUP BY ath.author\n",
    "ORDER BY avg_rat DESC\n",
    "LIMIT 1\n",
    "\n",
    "'''\n",
    "result(query)"
   ]
  },
  {
   "cell_type": "markdown",
   "id": "ce7ea6db",
   "metadata": {},
   "source": [
    "Вывод: J.K. Rowling/Mary GrandPré имеет наивысший рейтинг произведений - 4.29. Всего оценок -\t310"
   ]
  },
  {
   "cell_type": "markdown",
   "id": "1b7a75b6",
   "metadata": {},
   "source": [
    "<div class=\"alert alert-success\">\n",
    " <b>👍 Успех:</b> Все верно!\n",
    " </div>"
   ]
  },
  {
   "cell_type": "markdown",
   "id": "bebf9118",
   "metadata": {},
   "source": [
    "### Задача 5.\n",
    "Посчитайте среднее количество обзоров от пользователей, которые поставили больше 50 оценок."
   ]
  },
  {
   "cell_type": "code",
   "execution_count": 8,
   "id": "623ba5ca",
   "metadata": {},
   "outputs": [
    {
     "data": {
      "text/html": [
       "<div>\n",
       "<style scoped>\n",
       "    .dataframe tbody tr th:only-of-type {\n",
       "        vertical-align: middle;\n",
       "    }\n",
       "\n",
       "    .dataframe tbody tr th {\n",
       "        vertical-align: top;\n",
       "    }\n",
       "\n",
       "    .dataframe thead th {\n",
       "        text-align: right;\n",
       "    }\n",
       "</style>\n",
       "<table border=\"1\" class=\"dataframe\">\n",
       "  <thead>\n",
       "    <tr style=\"text-align: right;\">\n",
       "      <th></th>\n",
       "      <th>round</th>\n",
       "    </tr>\n",
       "  </thead>\n",
       "  <tbody>\n",
       "    <tr>\n",
       "      <th>0</th>\n",
       "      <td>24.33</td>\n",
       "    </tr>\n",
       "  </tbody>\n",
       "</table>\n",
       "</div>"
      ],
      "text/plain": [
       "   round\n",
       "0  24.33"
      ]
     },
     "execution_count": 8,
     "metadata": {},
     "output_type": "execute_result"
    }
   ],
   "source": [
    "query ='''\n",
    "WITH i AS\n",
    "\n",
    "(SELECT COUNT(review_id) cnt, \n",
    "        username\n",
    "FROM reviews \n",
    "GROUP BY username \n",
    "HAVING username IN (\n",
    "                     SELECT username\n",
    "                     FROM ratings\n",
    "                     GROUP BY username \n",
    "                     HAVING COUNT(rating_id)>50\n",
    "                     ) )\n",
    "      \n",
    "SELECT ROUND(AVG (i.cnt),2)\n",
    "FROM i\n",
    "\n",
    "\n",
    "'''\n",
    "result(query)"
   ]
  },
  {
   "cell_type": "markdown",
   "id": "83a93f1f",
   "metadata": {},
   "source": [
    "Вывод: среднее количество обзоров от пользователей, которые поставили больше 50 оценок = 24 обзора"
   ]
  },
  {
   "cell_type": "markdown",
   "id": "07739733",
   "metadata": {},
   "source": [
    "<div class=\"alert alert-success\">\n",
    " <b>👍 Успех:</b> Все верно!\n",
    " </div>"
   ]
  },
  {
   "cell_type": "markdown",
   "id": "08af7288",
   "metadata": {},
   "source": [
    "# Общие выводы \n",
    "•\tПосчитайте, сколько книг вышло после 1 января 2000 года;  \n",
    "_819 книг вышло после 2000-01-01_  \n",
    "•\tДля каждой книги посчитайте количество обзоров и среднюю оценку;  \n",
    "_Twilight кажется настоящий блокбастер, 1120 отзывов. В 2 раза больше,чем у ближайшего конкурента The Hobbit or There and Back Again_  \n",
    "•   Определите издательство, которое выпустило наибольшее число книг толще 50 страниц — так вы исключите из анализа брошюры;  \n",
    "_Издательство Penguin Books издает больше всего книг, толще 50 стр., 42 штуки._  \n",
    "•\tОпределите автора с самой высокой средней оценкой книг — учитывайте только книги с 50 и более оценками;  \n",
    "_J.K. Rowling/Mary GrandPré имеет наивысший рейтинг произведений - 4.29. Всего оценок - 310_  \n",
    "•\tПосчитайте среднее количество обзоров от пользователей, которые поставили больше 50 оценок.\n",
    "_Среднее количество обзоров от пользователей, которые поставили больше 50 оценок = 24 обзора_\n"
   ]
  },
  {
   "cell_type": "markdown",
   "id": "6c5b5377",
   "metadata": {},
   "source": [
    " <div class=\"alert alert-success\">\n",
    " <b>👍 Успех:</b> Отличная работа! Поздравляю с завершением курса! Теперь ты настоящий аналитик))) Если захочешь расширить свои знания SQL, то можно посмотреть вот <a href='https://stepik.org/course/3203/promo'> сюда</a>\n",
    " </div>"
   ]
  },
  {
   "cell_type": "code",
   "execution_count": null,
   "id": "3c8cff65",
   "metadata": {},
   "outputs": [],
   "source": []
  }
 ],
 "metadata": {
  "ExecuteTimeLog": [
   {
    "duration": 53,
    "start_time": "2023-03-06T09:27:18.625Z"
   },
   {
    "duration": 6863,
    "start_time": "2023-03-06T09:27:42.098Z"
   },
   {
    "duration": 3,
    "start_time": "2023-03-06T09:27:48.963Z"
   },
   {
    "duration": 318,
    "start_time": "2023-03-06T09:27:48.968Z"
   },
   {
    "duration": 77,
    "start_time": "2023-03-06T09:27:49.289Z"
   },
   {
    "duration": 119,
    "start_time": "2023-03-06T09:27:49.368Z"
   },
   {
    "duration": 79,
    "start_time": "2023-03-06T09:27:49.489Z"
   },
   {
    "duration": 83,
    "start_time": "2023-03-06T09:27:49.571Z"
   },
   {
    "duration": 81,
    "start_time": "2023-03-06T09:27:49.656Z"
   },
   {
    "duration": 117,
    "start_time": "2023-03-06T09:28:12.682Z"
   },
   {
    "duration": 131,
    "start_time": "2023-03-06T09:30:09.272Z"
   },
   {
    "duration": 117,
    "start_time": "2023-03-06T09:42:29.607Z"
   },
   {
    "duration": 125,
    "start_time": "2023-03-06T09:42:39.907Z"
   },
   {
    "duration": 223,
    "start_time": "2023-03-06T09:43:30.930Z"
   },
   {
    "duration": 145,
    "start_time": "2023-03-06T09:44:36.003Z"
   },
   {
    "duration": 159,
    "start_time": "2023-03-06T09:45:16.607Z"
   },
   {
    "duration": 154,
    "start_time": "2023-03-06T09:45:44.722Z"
   },
   {
    "duration": 162,
    "start_time": "2023-03-06T09:46:32.239Z"
   },
   {
    "duration": 113,
    "start_time": "2023-03-06T09:47:01.107Z"
   },
   {
    "duration": 112,
    "start_time": "2023-03-06T09:47:35.535Z"
   }
  ],
  "kernelspec": {
   "display_name": "Python 3 (ipykernel)",
   "language": "python",
   "name": "python3"
  },
  "language_info": {
   "codemirror_mode": {
    "name": "ipython",
    "version": 3
   },
   "file_extension": ".py",
   "mimetype": "text/x-python",
   "name": "python",
   "nbconvert_exporter": "python",
   "pygments_lexer": "ipython3",
   "version": "3.9.5"
  },
  "toc": {
   "base_numbering": 1,
   "nav_menu": {},
   "number_sections": true,
   "sideBar": true,
   "skip_h1_title": false,
   "title_cell": "Table of Contents",
   "title_sidebar": "Contents",
   "toc_cell": false,
   "toc_position": {},
   "toc_section_display": true,
   "toc_window_display": false
  }
 },
 "nbformat": 4,
 "nbformat_minor": 5
}
